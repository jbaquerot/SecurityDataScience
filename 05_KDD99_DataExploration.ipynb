{
 "cells": [
  {
   "cell_type": "markdown",
   "metadata": {},
   "source": [
    "![GMV](https://upload.wikimedia.org/wikipedia/en/3/31/GMV_logo_small_gif.gif) \n",
    "![Apache Spark](http://spark.apache.org/images/spark-logo.png)\n",
    "\n",
    "# Intrusion Detection System"
   ]
  },
  {
   "cell_type": "markdown",
   "metadata": {},
   "source": [
    "Abstract \n",
    "--------\n",
    "\n",
    "Security and privacy of a system is compromised, when an intrusion happens. Intrusion Detection System (IDS) plays vital role in network security as it detects various types of attacks in network. So here, we are going to propose Intrusion Detection System using machine learning algorithms. The proposed system will be done by conducting some experiments using [NSL-KDD Cup’99](http://nsl.cs.unb.ca/NSL-KDD/) dataset which is improved version of [KDD Cup’99 data set](http://archive.ics.uci.edu/ml/datasets/KDD+Cup+1999+Data)."
   ]
  },
  {
   "cell_type": "markdown",
   "metadata": {},
   "source": [
    "Data Mining Process\n",
    "------------------- \n",
    "The [Cross Industry Standard Process for Data Mining](https://en.wikipedia.org/wiki/Cross_Industry_Standard_Process_for_Data_Mining) introduced a process model for data mining in 2000 that has become widely adopted.\n",
    "\n",
    "<a href=\"https://en.wikipedia.org/wiki/Cross_Industry_Standard_Process_for_Data_Mining\"> \n",
    "<img src=\"https://upload.wikimedia.org/wikipedia/commons/thumb/b/b9/CRISP-DM_Process_Diagram.png/479px-CRISP-DM_Process_Diagram.png\" title=\"Cross Industry Standard Process for Data Mining\" alt=\"CRISP-DM_Process_Diagram\"/></a>\n",
    "\n",
    "\n",
    "\n",
    "The model emphasizes the ***iterative*** nature of the data mining process, distinguishing several different stages that are regularly revisited in the course of developing and deploying data-driven solutions to business problems\n",
    "* Business understanding\n",
    "* Data understanding\n",
    "* Data preparation\n",
    "* Modeling\n",
    "* Deployment"
   ]
  },
  {
   "cell_type": "markdown",
   "metadata": {},
   "source": [
    "# Business Understanding"
   ]
  },
  {
   "cell_type": "markdown",
   "metadata": {},
   "source": [
    "Nowadays the cyber security threats are rising and putting in risk a great number of organizations. Any organization could be a target for the attackers that produce huge damages into it.\n",
    "\n",
    "For these reasons it's necessary to provide a system that help to detect intruders in a network. This intrusion detection system should be non-invasive to other systems to provide a quick deployment and to get results a soon as possible. \n",
    "\n",
    "It's also important to balance the number of false positives (that increase the maintenance of the system) with the number of false negatives (that would allow to intruders achieve their objectives)"
   ]
  },
  {
   "cell_type": "markdown",
   "metadata": {},
   "source": [
    "# Data Understanding"
   ]
  },
  {
   "cell_type": "markdown",
   "metadata": {},
   "source": [
    "**KDD Cup'99 data set** used for The Third International Knowledge Discovery and Data Mining Tools Competition, which was held in conjunction with KDD-99 The Fifth International Conference on Knowledge Discovery and Data Mining. The competition task was to build a network intrusion detector, a predictive model capable of distinguishing between **``bad'' connections**, called intrusions or attacks, and **``good'' normal connections**. This database contains a standard set of data to be audited, which includes a wide variety of intrusions simulated in a military network environment.\n",
    "\n",
    "**NSL-KDD** is a data set suggested to solve some of the inherent problems of the KDD'99 data set. Although, this new version of the KDD data set still suffers from some of the problems and may not be a perfect representative of existing real networks, because of the lack of public data sets for network-based IDSs, we believe it still can be applied as an effective benchmark data set to help researchers compare different intrusion detection methods. Furthermore, the number of records in the NSL-KDD train and test sets are reasonable. This advantage makes it affordable to run the experiments on the complete set without the need to randomly select a small portion. Consequently, evaluation results of different research work will be consistent and comparable\n",
    "\n",
    "A connection is a sequence of TCP packets starting and ending at some well defined times, between which data flows to and from a source IP address to a target IP address under some well defined protocol.  Each connection is labeled as either normal, or as an attack, with exactly one specific attack type.  Each connection record consists of about 100 bytes.\n",
    "\n",
    "Attacks fall into four main categories:\n",
    "\n",
    "* DOS: denial-of-service, e.g. syn flood;\n",
    "* R2L: unauthorized access from a remote machine, e.g. guessing password;\n",
    "* U2R:  unauthorized access to local superuser (root) privileges, e.g., various ``buffer overflow'' attacks;\n",
    "* probing: surveillance and other probing, e.g., port scanning.\n",
    "\n",
    "It is important to note that the test data is not from the same probability distribution as the training data, and it includes specific attack types not in the training data.  This makes the task more realistic.  Some intrusion experts believe that most novel attacks are variants of known attacks and the \"signature\" of known attacks can be sufficient to catch novel variants.  The datasets contain a total of 24 training attack types, with an additional 14 types in the test data only. \n",
    "\n",
    "### Derived Features ###\n",
    "\n",
    "Higher-level features had been defined that help in distinguishing *normal* connections from *attacks*.  There are several categories of derived features.\n",
    "\n",
    "**Intrinsic attributes**\n",
    "\n",
    "These attributes are extracted from the headers' area of the network packets.\n",
    "\n",
    "Col|Feature name  | description |\ttype\n",
    "---|--------------|-------------|------------\n",
    "1  |duration \t  |length (number of seconds) of the connection |continuous\n",
    "2  |protocol_type |type of the protocol, e.g. tcp, udp, etc. |discrete\n",
    "3  |service \t  |network service on the destination, e.g., http, telnet, etc. |discrete\n",
    "4  |flag \t      |normal or error status of the connection. The possible status are this: SF, S0, S1, S2, S3, OTH, REJ, RSTO, RSTOS0, SH, RSTRH, SHR \t|discrete \n",
    "5  |src_bytes \t  |number of data bytes from source to destination \t|continuous\n",
    "6  |dst_bytes \t  |number of data bytes from destination to source \t|continuous\n",
    "7  |land \t      |1 if connection is from/to the same host/port; 0 otherwise \t|discrete\n",
    "8  |wrong_fragment|sum of bad checksum packets in a connection \t|continuous\n",
    "9  |urgent \t      |number of urgent packets. Urgent packets are packets with the urgent bit activated \t|continuous\n",
    "\n",
    "\n",
    "\n",
    "**Content attributes** \n",
    "\n",
    "These attributes are extracted from the contents area of the network packets based on expert person knowledge.\n",
    "\n",
    "Col|Feature name\t      |description \t|type\n",
    "---|----------------------|-------------|-----\n",
    "10 |hot \t              |sum of hot actions in a connection such as: entering a system directory, creating programs and executing programs\t|continuous\n",
    "11 |num_failed_logins \t  |number of failed login attempts \t|continuous\n",
    "12 |logged_in \t          |1 if successfully logged in; 0 otherwise \t|discrete\n",
    "13 |num_compromised \t  |number of \"compromised\" conditions \t|continuous\n",
    "14 |root_shell \t          |1 if root shell is obtained; 0 otherwise \t|discrete\n",
    "15 |su_attempted \t      |1 if \"su root\" command attempted; 0 otherwise \t|discrete\n",
    "16 |num_root \t          |number of \"root'\" accesses \t|continuous\n",
    "17 |num_file_creations \t  |number of file creation operations \t|continuous\n",
    "18 |num_shells \t          |number of shell prompts \t|continuous\n",
    "19 |num_access_files \t  |number of operations on access control files \t|continuous\n",
    "20 |num_outbound_cmds\t  |number of outbound commands in an ftp session \t|continuous\n",
    "21 |is_hot_login \t      |1 if the login belongs to the \"hot\" list; 0 otherwise \t|discrete\n",
    "22 |is_guest_login \t      |1 if the login is a \"guest\" login; 0 otherwise \t|discrete\n",
    "\n",
    "**Traffic attributes**\n",
    "\n",
    "These attributes are calculated taking into account the previous connections. 9+10 attributes are divided into two groups: (1) time traffic features (2) machine traffic features. The difference between one group and the other is the mode to select the previous connections.\n",
    "\n",
    "\n",
    "*Time traffic attributes*\n",
    "\n",
    "To calculate these attributes we considered the connections that occurred in the past 2 seconds.\n",
    "\n",
    "Col|Feature name\t      |description \t|type\n",
    "---|----------------------|-------------|-----\n",
    "23 |count \t              |sum of connections to the same destination IP address |continuous\n",
    "24 |srv_count \t          |sum of connections to the same destination port number |continuous\n",
    "25 |serror_rate \t      |the percentage of connections that have activated the flag (4) s0, s1, s2 or s3, among the connections aggregated in count (23)|continuous\n",
    "26 |srv_serror_rate \t  |the percentage of connections that have activated the flag (4) s0, s1, s2 or s3, among the connections aggregated in srv_count (24)|continuous\n",
    "27 |rerror_rate \t      |the percentage of connections that have activated the flag (4) REJ, among the connections aggregated in count (23)|continuous\n",
    "29 |same_srv_rate \t      |the percentage of connections that have activated the flag (4) REJ, among the connections aggregated in srv_count (24)|continuous\n",
    "28 |srv_rerror_rate \t  |the percentage of connections that were to the same service, among the connections aggregated in count (23)|continuous\n",
    "30 |diff_srv_rate \t      |the percentage of connections that were to different services, among the connections aggregated in count (23)|continuous\n",
    "31 |srv_diff_host_rate \t  |the percentage of connections that were to different destination ma- chines among the connections aggregated in srv_count (24)|continuous\n",
    "\n",
    "*Machine traffic attributes*\n",
    "\n",
    "To calculate these attributes we took into account the previous 100 connections.\n",
    "\n",
    "Col|Feature name\t      |description \t|type\n",
    "---|----------------------|-------------|-----\n",
    "32 |dst_host_count        |sum of connections to the same destination IP address   |continuous\n",
    "33 |dst_host_srv_count    |sum of connections to the same destination port number  |continuous\n",
    "34 |dst_host_same_srv_rate|the percentage of connections that were to the same service, among the connections aggregated in dst_host_count (32)|continuous \n",
    "35 |dst_host_diff_srv_rate|the percentage of connections that were to different services, among the connections aggregated in dst_host_count (32)|continuous \n",
    "36 |dst_host_same_src_port_rate|the percentage of connections that were to the same source port, among the connections aggregated in dst_host_srv_count (33)|continuous \n",
    "37 |dst_host_srv_diff_host_rate|the percentage of connections that were to different destination ma- chines, among the connections aggregated in dst_host_srv_count (33)|continuous \n",
    "38 |dst_host_serror_rate  |the percentage of connections that have activated the flag (4) s0, s1, s2 or s3, among the connections aggregated in dst_host_count (32)|continuous\n",
    "39 |dst_host_srv_serror_rate|the percent of connections that have activated the flag (4) s0, s1, s2 or s3, among the connections aggregated in dst_host_srv_count (33)|continuous \n",
    "40 |dst_host_rerror_rate  |the percentage of connections that have activated the flag (4) REJ, among the connections aggregated in dst_host_count (32)|continuous\n",
    "41 |dst_host_srv_rerror_rate|the percentage of connections that have activated the flag (4) REJ, among the connections aggregated in dst_host_srv_count (33)|continuous \n",
    "\n",
    "\n",
    "\n",
    "**Class attribute**\n",
    "\n",
    "The 42nd attribute is the ***class*** attribute, it indicates which type of connections is each instance: normal or which attack. The values it can take are the following: *anomaly, dict, dict_simple, eject, eject-fail, ffb, ffb_clear, format, format_clear, format-fail, ftp-write, guest, imap, land, load_clear, loadmodule, multihop, perl_clear, perlmagic, phf, rootkit, spy, syslog, teardrop, warez, warezclient, warezmaster, pod, back, ip- sweep, neptune, nmap, portsweep, satan, smurf and normal."
   ]
  },
  {
   "cell_type": "markdown",
   "metadata": {},
   "source": [
    "# Apache Spark Initialization"
   ]
  },
  {
   "cell_type": "code",
   "execution_count": 1,
   "metadata": {},
   "outputs": [],
   "source": [
    "import findspark\n",
    "findspark.init()\n",
    "import pyspark\n",
    "sc = pyspark.SparkContext(appName=\"SecurityDataScience\")"
   ]
  },
  {
   "cell_type": "markdown",
   "metadata": {},
   "source": [
    "## Data Exploration"
   ]
  },
  {
   "cell_type": "code",
   "execution_count": 2,
   "metadata": {},
   "outputs": [],
   "source": [
    "%matplotlib inline"
   ]
  },
  {
   "cell_type": "markdown",
   "metadata": {},
   "source": [
    "### Libraries"
   ]
  },
  {
   "cell_type": "code",
   "execution_count": 3,
   "metadata": {},
   "outputs": [],
   "source": [
    "import numpy as np\n",
    "import matplotlib as mpl\n",
    "import matplotlib.pyplot as plt\n",
    "import pandas as pd\n",
    "import seaborn as sns"
   ]
  },
  {
   "cell_type": "markdown",
   "metadata": {},
   "source": [
    "### Seaborn palette setting"
   ]
  },
  {
   "cell_type": "code",
   "execution_count": 4,
   "metadata": {},
   "outputs": [],
   "source": [
    "sns.set_palette(\"deep\", desat=.6)\n",
    "sns.set_context(\"notebook\")\n",
    "sns.set_style(\"whitegrid\")\n",
    "sns.set(font= 'serif', font_scale=0.75)"
   ]
  },
  {
   "cell_type": "markdown",
   "metadata": {},
   "source": [
    "### Reading Data File"
   ]
  },
  {
   "cell_type": "code",
   "execution_count": 5,
   "metadata": {
    "scrolled": true
   },
   "outputs": [],
   "source": [
    "from pyspark.sql import SQLContext\n",
    "from pyspark.sql.types import *\n",
    "from pyspark.sql.functions import * \n",
    "sqlContext = SQLContext(sc)"
   ]
  },
  {
   "cell_type": "code",
   "execution_count": 6,
   "metadata": {},
   "outputs": [],
   "source": [
    "textFileConn = sc.textFile('./data/KDD/KDDTrain+.txt')"
   ]
  },
  {
   "cell_type": "code",
   "execution_count": 7,
   "metadata": {},
   "outputs": [
    {
     "data": {
      "text/plain": [
       "125973"
      ]
     },
     "execution_count": 7,
     "metadata": {},
     "output_type": "execute_result"
    }
   ],
   "source": [
    "textFileConn.count()"
   ]
  },
  {
   "cell_type": "code",
   "execution_count": 8,
   "metadata": {},
   "outputs": [
    {
     "data": {
      "text/plain": [
       "['0,tcp,ftp_data,SF,491,0,0,0,0,0,0,0,0,0,0,0,0,0,0,0,0,0,2,2,0.00,0.00,0.00,0.00,1.00,0.00,0.00,150,25,0.17,0.03,0.17,0.00,0.00,0.00,0.05,0.00,normal,20',\n",
       " '0,udp,other,SF,146,0,0,0,0,0,0,0,0,0,0,0,0,0,0,0,0,0,13,1,0.00,0.00,0.00,0.00,0.08,0.15,0.00,255,1,0.00,0.60,0.88,0.00,0.00,0.00,0.00,0.00,normal,15',\n",
       " '0,tcp,private,S0,0,0,0,0,0,0,0,0,0,0,0,0,0,0,0,0,0,0,123,6,1.00,1.00,0.00,0.00,0.05,0.07,0.00,255,26,0.10,0.05,0.00,0.00,1.00,1.00,0.00,0.00,neptune,19']"
      ]
     },
     "execution_count": 8,
     "metadata": {},
     "output_type": "execute_result"
    }
   ],
   "source": [
    "textFileConn.take(3)"
   ]
  },
  {
   "cell_type": "code",
   "execution_count": 9,
   "metadata": {},
   "outputs": [],
   "source": [
    "#Creating the schema\n",
    "\n",
    "#we define the name of the columns\n",
    "columnNames = [\"duration\",\"protocol_type\",\"service\",\"flag\",\"src_bytes\",\"dst_bytes\",\"land\",\n",
    "              \"wrong_fragment\",\"urgent\",\"hot\",\"num_failed_logins\",\"logged_in\",\"num_compromised\",\n",
    "              \"root_shell\",\"su_attempted\",\"num_root\",\"num_file_creations\",\"num_shells\",\n",
    "              \"num_access_files\",\"num_outbound_cmds\",\"is_hot_login\",\"is_guest_login\",\"count\",\n",
    "              \"srv_count\",\"serror_rate\",\"srv_serror_rate\",\"rerror_rate\",\"same_srv_rate\",\n",
    "              \"srv_rerror_rate\",\"diff_srv_rate\",\"srv_diff_host_rate\",\"dst_host_count\",\n",
    "              \"dst_host_srv_count\",\"dst_host_same_srv_rate\",\"dst_host_diff_srv_rate\",\n",
    "              \"dst_host_same_src_port_rate\",\"dst_host_srv_diff_host_rate\",\"dst_host_serror_rate\",\n",
    "              \"dst_host_srv_serror_rate\",\"dst_host_rerror_rate\",\"dst_host_srv_rerror_rate\",\n",
    "              \"attack\"\n",
    "              ]"
   ]
  },
  {
   "cell_type": "code",
   "execution_count": 10,
   "metadata": {},
   "outputs": [],
   "source": [
    "#quick fields initialitation all for FloatType\n",
    "connFields = [StructField(colName, FloatType(), True) for colName in columnNames]"
   ]
  },
  {
   "cell_type": "code",
   "execution_count": 11,
   "metadata": {},
   "outputs": [],
   "source": [
    "#we proceed to modify the respective fields so that they reflect the correct data type:\n",
    "connFields[1].dataType = StringType()\n",
    "connFields[2].dataType = StringType()\n",
    "connFields[3].dataType = StringType()\n",
    "connFields[6].dataType = StringType()\n",
    "connFields[11].dataType = StringType()\n",
    "connFields[13].dataType = StringType()\n",
    "connFields[14].dataType = StringType()\n",
    "connFields[20].dataType = StringType()\n",
    "connFields[21].dataType = StringType()\n",
    "connFields[41].dataType = StringType()"
   ]
  },
  {
   "cell_type": "code",
   "execution_count": 12,
   "metadata": {},
   "outputs": [
    {
     "data": {
      "text/plain": [
       "[StructField(duration,FloatType,true),\n",
       " StructField(protocol_type,StringType,true),\n",
       " StructField(service,StringType,true),\n",
       " StructField(flag,StringType,true),\n",
       " StructField(src_bytes,FloatType,true),\n",
       " StructField(dst_bytes,FloatType,true),\n",
       " StructField(land,StringType,true),\n",
       " StructField(wrong_fragment,FloatType,true),\n",
       " StructField(urgent,FloatType,true),\n",
       " StructField(hot,FloatType,true),\n",
       " StructField(num_failed_logins,FloatType,true),\n",
       " StructField(logged_in,StringType,true),\n",
       " StructField(num_compromised,FloatType,true),\n",
       " StructField(root_shell,StringType,true),\n",
       " StructField(su_attempted,StringType,true),\n",
       " StructField(num_root,FloatType,true),\n",
       " StructField(num_file_creations,FloatType,true),\n",
       " StructField(num_shells,FloatType,true),\n",
       " StructField(num_access_files,FloatType,true),\n",
       " StructField(num_outbound_cmds,FloatType,true),\n",
       " StructField(is_hot_login,StringType,true),\n",
       " StructField(is_guest_login,StringType,true),\n",
       " StructField(count,FloatType,true),\n",
       " StructField(srv_count,FloatType,true),\n",
       " StructField(serror_rate,FloatType,true),\n",
       " StructField(srv_serror_rate,FloatType,true),\n",
       " StructField(rerror_rate,FloatType,true),\n",
       " StructField(same_srv_rate,FloatType,true),\n",
       " StructField(srv_rerror_rate,FloatType,true),\n",
       " StructField(diff_srv_rate,FloatType,true),\n",
       " StructField(srv_diff_host_rate,FloatType,true),\n",
       " StructField(dst_host_count,FloatType,true),\n",
       " StructField(dst_host_srv_count,FloatType,true),\n",
       " StructField(dst_host_same_srv_rate,FloatType,true),\n",
       " StructField(dst_host_diff_srv_rate,FloatType,true),\n",
       " StructField(dst_host_same_src_port_rate,FloatType,true),\n",
       " StructField(dst_host_srv_diff_host_rate,FloatType,true),\n",
       " StructField(dst_host_serror_rate,FloatType,true),\n",
       " StructField(dst_host_srv_serror_rate,FloatType,true),\n",
       " StructField(dst_host_rerror_rate,FloatType,true),\n",
       " StructField(dst_host_srv_rerror_rate,FloatType,true),\n",
       " StructField(attack,StringType,true)]"
      ]
     },
     "execution_count": 12,
     "metadata": {},
     "output_type": "execute_result"
    }
   ],
   "source": [
    "connFields"
   ]
  },
  {
   "cell_type": "code",
   "execution_count": 13,
   "metadata": {},
   "outputs": [],
   "source": [
    "# we can construct our schema, which we will use later below for building the data frame\n",
    "connSchema = StructType(connFields)"
   ]
  },
  {
   "cell_type": "code",
   "execution_count": 14,
   "metadata": {},
   "outputs": [
    {
     "data": {
      "text/plain": [
       "StructType(List(StructField(duration,FloatType,true),StructField(protocol_type,StringType,true),StructField(service,StringType,true),StructField(flag,StringType,true),StructField(src_bytes,FloatType,true),StructField(dst_bytes,FloatType,true),StructField(land,StringType,true),StructField(wrong_fragment,FloatType,true),StructField(urgent,FloatType,true),StructField(hot,FloatType,true),StructField(num_failed_logins,FloatType,true),StructField(logged_in,StringType,true),StructField(num_compromised,FloatType,true),StructField(root_shell,StringType,true),StructField(su_attempted,StringType,true),StructField(num_root,FloatType,true),StructField(num_file_creations,FloatType,true),StructField(num_shells,FloatType,true),StructField(num_access_files,FloatType,true),StructField(num_outbound_cmds,FloatType,true),StructField(is_hot_login,StringType,true),StructField(is_guest_login,StringType,true),StructField(count,FloatType,true),StructField(srv_count,FloatType,true),StructField(serror_rate,FloatType,true),StructField(srv_serror_rate,FloatType,true),StructField(rerror_rate,FloatType,true),StructField(same_srv_rate,FloatType,true),StructField(srv_rerror_rate,FloatType,true),StructField(diff_srv_rate,FloatType,true),StructField(srv_diff_host_rate,FloatType,true),StructField(dst_host_count,FloatType,true),StructField(dst_host_srv_count,FloatType,true),StructField(dst_host_same_srv_rate,FloatType,true),StructField(dst_host_diff_srv_rate,FloatType,true),StructField(dst_host_same_src_port_rate,FloatType,true),StructField(dst_host_srv_diff_host_rate,FloatType,true),StructField(dst_host_serror_rate,FloatType,true),StructField(dst_host_srv_serror_rate,FloatType,true),StructField(dst_host_rerror_rate,FloatType,true),StructField(dst_host_srv_rerror_rate,FloatType,true),StructField(attack,StringType,true)))"
      ]
     },
     "execution_count": 14,
     "metadata": {},
     "output_type": "execute_result"
    }
   ],
   "source": [
    "connSchema"
   ]
  },
  {
   "cell_type": "code",
   "execution_count": 15,
   "metadata": {},
   "outputs": [],
   "source": [
    "#Parsing the file\n",
    "def parseReg(p):\n",
    "    return ( float(p[0])\n",
    "            ,p[1], p[2], p[3] \n",
    "            ,float(p[4])\n",
    "            ,float(p[5])\n",
    "            ,p[6]\n",
    "            ,float(p[7])\n",
    "            ,float(p[8])\n",
    "            ,float(p[9])\n",
    "            ,float(p[10])\n",
    "            ,p[11]\n",
    "            ,float(p[12])\n",
    "            ,p[13], p[14]\n",
    "            ,float(p[15])\n",
    "            ,float(p[16])\n",
    "            ,float(p[17])\n",
    "            ,float(p[18])\n",
    "            ,float(p[19])\n",
    "            ,p[20], p[21]\n",
    "            ,float(p[22])\n",
    "            ,float(p[23])\n",
    "            ,float(p[24])\n",
    "            ,float(p[25])\n",
    "            ,float(p[26])\n",
    "            ,float(p[27])\n",
    "            ,float(p[28])\n",
    "            ,float(p[29])\n",
    "            ,float(p[30])\n",
    "            ,float(p[31])\n",
    "            ,float(p[32])\n",
    "            ,float(p[33])\n",
    "            ,float(p[34])\n",
    "            ,float(p[35])\n",
    "            ,float(p[36])\n",
    "            ,float(p[37])\n",
    "            ,float(p[38])\n",
    "            ,float(p[39])\n",
    "            ,float(p[40])\n",
    "            ,p[41])"
   ]
  },
  {
   "cell_type": "code",
   "execution_count": 16,
   "metadata": {},
   "outputs": [],
   "source": [
    "connParsedFile = (textFileConn.map(lambda line: line.split(','))\n",
    "                              .map(parseReg))"
   ]
  },
  {
   "cell_type": "code",
   "execution_count": 17,
   "metadata": {
    "scrolled": true
   },
   "outputs": [
    {
     "data": {
      "text/plain": [
       "DataFrame[duration: float, protocol_type: string, service: string, flag: string, src_bytes: float, dst_bytes: float, land: string, wrong_fragment: float, urgent: float, hot: float, num_failed_logins: float, logged_in: string, num_compromised: float, root_shell: string, su_attempted: string, num_root: float, num_file_creations: float, num_shells: float, num_access_files: float, num_outbound_cmds: float, is_hot_login: string, is_guest_login: string, count: float, srv_count: float, serror_rate: float, srv_serror_rate: float, rerror_rate: float, same_srv_rate: float, srv_rerror_rate: float, diff_srv_rate: float, srv_diff_host_rate: float, dst_host_count: float, dst_host_srv_count: float, dst_host_same_srv_rate: float, dst_host_diff_srv_rate: float, dst_host_same_src_port_rate: float, dst_host_srv_diff_host_rate: float, dst_host_serror_rate: float, dst_host_srv_serror_rate: float, dst_host_rerror_rate: float, dst_host_srv_rerror_rate: float, attack: string]"
      ]
     },
     "execution_count": 17,
     "metadata": {},
     "output_type": "execute_result"
    }
   ],
   "source": [
    "# We are now ready to build our data frame, using the connParsedFile RDD computed above and the schema \n",
    "# variable already calculated:\n",
    "conn = sqlContext.createDataFrame(connParsedFile, connSchema)\n",
    "conn.cache()"
   ]
  },
  {
   "cell_type": "code",
   "execution_count": 18,
   "metadata": {},
   "outputs": [],
   "source": [
    "# Infer the schema, and register the DataFrame as a table.\n",
    "conn.registerTempTable(\"connection\")"
   ]
  },
  {
   "cell_type": "markdown",
   "metadata": {},
   "source": [
    "### Auxiliary functions"
   ]
  },
  {
   "cell_type": "code",
   "execution_count": 19,
   "metadata": {},
   "outputs": [],
   "source": [
    "def percentageOf(df, colName=''):\n",
    "    \"\"\"Calculate the percentage of each categorical value of colName from de Spark DataFrame df\n",
    "    \n",
    "    Keyword arguments:\n",
    "    df -- the DataFrame\n",
    "    colName -- the name of the column\n",
    "    \"\"\"\n",
    "    rows = df.groupBy(colName).count().collect()\n",
    "    total = 0\n",
    "    for r in rows:\n",
    "        total += r.asDict()[\"count\"]\n",
    "    dictResult = {r.asDict()[colName]: 1.0*r.asDict()[\"count\"]/total for r in rows}\n",
    "    return sorted(dictResult.items(), key=lambda x: x[1], reverse= True)"
   ]
  },
  {
   "cell_type": "code",
   "execution_count": 20,
   "metadata": {},
   "outputs": [],
   "source": [
    "def numberOf(df, colName=''):\n",
    "    \"\"\"Calculate the number of each categorical value of colName from de Spark DataFrame df\n",
    "    \n",
    "    Keyword arguments:\n",
    "    df -- the DataFrame\n",
    "    colName -- the name of the column\n",
    "    \"\"\"\n",
    "    rows = df.groupBy(colName).count().collect()\n",
    "    dictResult = {r.asDict()[colName]: r.asDict()['count'] for r in rows}\n",
    "    return sorted(dictResult.items(), key=lambda x: x[1], reverse= True)"
   ]
  },
  {
   "cell_type": "markdown",
   "metadata": {},
   "source": [
    "### Univariate Analysis"
   ]
  },
  {
   "cell_type": "markdown",
   "metadata": {},
   "source": [
    "* **name:** duration\n",
    "* **description:** length (number of seconds) of the connection\n",
    "* **type:** continuous"
   ]
  },
  {
   "cell_type": "code",
   "execution_count": 21,
   "metadata": {
    "scrolled": true
   },
   "outputs": [
    {
     "data": {
      "text/html": [
       "<div>\n",
       "<table border=\"1\" class=\"dataframe\">\n",
       "  <thead>\n",
       "    <tr style=\"text-align: right;\">\n",
       "      <th></th>\n",
       "      <th>summary</th>\n",
       "      <th>duration</th>\n",
       "    </tr>\n",
       "  </thead>\n",
       "  <tbody>\n",
       "    <tr>\n",
       "      <th>0</th>\n",
       "      <td>count</td>\n",
       "      <td>125973</td>\n",
       "    </tr>\n",
       "    <tr>\n",
       "      <th>1</th>\n",
       "      <td>mean</td>\n",
       "      <td>287.1446500440571</td>\n",
       "    </tr>\n",
       "    <tr>\n",
       "      <th>2</th>\n",
       "      <td>stddev</td>\n",
       "      <td>2604.5153098675896</td>\n",
       "    </tr>\n",
       "    <tr>\n",
       "      <th>3</th>\n",
       "      <td>min</td>\n",
       "      <td>0.0</td>\n",
       "    </tr>\n",
       "    <tr>\n",
       "      <th>4</th>\n",
       "      <td>max</td>\n",
       "      <td>42908.0</td>\n",
       "    </tr>\n",
       "  </tbody>\n",
       "</table>\n",
       "</div>"
      ],
      "text/plain": [
       "  summary            duration\n",
       "0   count              125973\n",
       "1    mean   287.1446500440571\n",
       "2  stddev  2604.5153098675896\n",
       "3     min                 0.0\n",
       "4     max             42908.0"
      ]
     },
     "execution_count": 21,
     "metadata": {},
     "output_type": "execute_result"
    }
   ],
   "source": [
    "#Statistics with all data\n",
    "conn.describe('duration').toPandas()"
   ]
  },
  {
   "cell_type": "markdown",
   "metadata": {},
   "source": [
    "##### The data set is big --> Getting only a sample of the data set for the analysis"
   ]
  },
  {
   "cell_type": "code",
   "execution_count": 85,
   "metadata": {},
   "outputs": [],
   "source": [
    "connSample = conn.sample(True, 0.05, seed= 1).toPandas()"
   ]
  },
  {
   "cell_type": "code",
   "execution_count": 86,
   "metadata": {},
   "outputs": [
    {
     "data": {
      "text/plain": [
       "count     6327.000000\n",
       "mean       313.346768\n",
       "std       2716.301340\n",
       "min          0.000000\n",
       "25%          0.000000\n",
       "50%          0.000000\n",
       "75%          0.000000\n",
       "max      42171.000000\n",
       "Name: duration, dtype: float64"
      ]
     },
     "execution_count": 86,
     "metadata": {},
     "output_type": "execute_result"
    }
   ],
   "source": [
    "connSample.duration.describe()"
   ]
  },
  {
   "cell_type": "code",
   "execution_count": 87,
   "metadata": {},
   "outputs": [
    {
     "data": {
      "image/png": "[encoded data removed]",
      "text/plain": [
       "<matplotlib.figure.Figure at 0x7f93a1356b38>"
      ]
     },
     "metadata": {},
     "output_type": "display_data"
    }
   ],
   "source": [
    "sns.distplot(connSample.duration, bins = 10);"
   ]
  },
  {
   "cell_type": "markdown",
   "metadata": {},
   "source": [
    "##### Skew distribution -> log transformation"
   ]
  },
  {
   "cell_type": "code",
   "execution_count": 88,
   "metadata": {},
   "outputs": [
    {
     "data": {
      "text/plain": [
       "count    6327.000000\n",
       "mean        0.342919\n",
       "std         1.497273\n",
       "min         0.000000\n",
       "25%         0.000000\n",
       "50%         0.000000\n",
       "75%         0.000000\n",
       "max        10.649512\n",
       "Name: duration, dtype: float64"
      ]
     },
     "execution_count": 88,
     "metadata": {},
     "output_type": "execute_result"
    }
   ],
   "source": [
    "np.log(connSample.duration+1).describe()"
   ]
  },
  {
   "cell_type": "code",
   "execution_count": 89,
   "metadata": {},
   "outputs": [
    {
     "data": {
      "image/png": "[encoded data removed]",
      "text/plain": [
       "<matplotlib.figure.Figure at 0x7f93a143f860>"
      ]
     },
     "metadata": {},
     "output_type": "display_data"
    }
   ],
   "source": [
    "sns.distplot(np.log(connSample.duration+1), bins=10);"
   ]
  },
  {
   "cell_type": "markdown",
   "metadata": {},
   "source": [
    "##### Let's inspect how many values are equal to 0:"
   ]
  },
  {
   "cell_type": "code",
   "execution_count": 90,
   "metadata": {},
   "outputs": [
    {
     "name": "stdout",
     "output_type": "stream",
     "text": [
      "Numbers of 0's in duration feature:  5790\n",
      "The percentage of 0's in duration feature: 91.51256519677572\n"
     ]
    }
   ],
   "source": [
    "print(\"Numbers of 0's in duration feature: \", len(connSample.duration[connSample.duration == 0]))\n",
    "print(\"The percentage of 0's in duration feature:\", 100.0*len(connSample.duration[connSample.duration == 0])/len(connSample.duration))"
   ]
  },
  {
   "cell_type": "markdown",
   "metadata": {},
   "source": [
    "##### Inspecting the distribution without 0's"
   ]
  },
  {
   "cell_type": "code",
   "execution_count": 91,
   "metadata": {},
   "outputs": [
    {
     "data": {
      "text/plain": [
       "count    537.000000\n",
       "mean       4.040311\n",
       "std        3.389998\n",
       "min        0.693147\n",
       "25%        1.098612\n",
       "50%        2.708050\n",
       "75%        7.764721\n",
       "max       10.649512\n",
       "Name: duration, dtype: float64"
      ]
     },
     "execution_count": 91,
     "metadata": {},
     "output_type": "execute_result"
    }
   ],
   "source": [
    "np.log(connSample.duration[connSample.duration>0]+1).describe()"
   ]
  },
  {
   "cell_type": "code",
   "execution_count": 92,
   "metadata": {},
   "outputs": [
    {
     "data": {
      "image/png": "[encoded data removed]",
      "text/plain": [
       "<matplotlib.figure.Figure at 0x7f93a149c2e8>"
      ]
     },
     "metadata": {},
     "output_type": "display_data"
    }
   ],
   "source": [
    "sns.distplot(np.log(connSample.duration[connSample.duration > 0]+1), bins=10);"
   ]
  },
  {
   "cell_type": "markdown",
   "metadata": {},
   "source": [
    "---"
   ]
  },
  {
   "cell_type": "markdown",
   "metadata": {},
   "source": [
    "* **name:** protocol_type\n",
    "* **description:** type of the protocol, e.g. tcp, udp, etc.\n",
    "* **type:** discrete"
   ]
  },
  {
   "cell_type": "code",
   "execution_count": 93,
   "metadata": {
    "scrolled": true
   },
   "outputs": [
    {
     "data": {
      "text/html": [
       "<div>\n",
       "<table border=\"1\" class=\"dataframe\">\n",
       "  <thead>\n",
       "    <tr style=\"text-align: right;\">\n",
       "      <th></th>\n",
       "      <th>summary</th>\n",
       "      <th>protocol_type</th>\n",
       "    </tr>\n",
       "  </thead>\n",
       "  <tbody>\n",
       "    <tr>\n",
       "      <th>0</th>\n",
       "      <td>count</td>\n",
       "      <td>125973</td>\n",
       "    </tr>\n",
       "    <tr>\n",
       "      <th>1</th>\n",
       "      <td>mean</td>\n",
       "      <td>None</td>\n",
       "    </tr>\n",
       "    <tr>\n",
       "      <th>2</th>\n",
       "      <td>stddev</td>\n",
       "      <td>None</td>\n",
       "    </tr>\n",
       "    <tr>\n",
       "      <th>3</th>\n",
       "      <td>min</td>\n",
       "      <td>icmp</td>\n",
       "    </tr>\n",
       "    <tr>\n",
       "      <th>4</th>\n",
       "      <td>max</td>\n",
       "      <td>udp</td>\n",
       "    </tr>\n",
       "  </tbody>\n",
       "</table>\n",
       "</div>"
      ],
      "text/plain": [
       "  summary protocol_type\n",
       "0   count        125973\n",
       "1    mean          None\n",
       "2  stddev          None\n",
       "3     min          icmp\n",
       "4     max           udp"
      ]
     },
     "execution_count": 93,
     "metadata": {},
     "output_type": "execute_result"
    }
   ],
   "source": [
    "#Statistics with all data\n",
    "conn.describe('protocol_type').toPandas()"
   ]
  },
  {
   "cell_type": "code",
   "execution_count": 94,
   "metadata": {
    "scrolled": true
   },
   "outputs": [
    {
     "data": {
      "text/plain": [
       "[('tcp', 0.815166742079652),\n",
       " ('udp', 0.1190175672564756),\n",
       " ('icmp', 0.06581569066387241)]"
      ]
     },
     "execution_count": 94,
     "metadata": {},
     "output_type": "execute_result"
    }
   ],
   "source": [
    "#Get the percentage of the values\n",
    "percentageOf(conn, 'protocol_type')"
   ]
  },
  {
   "cell_type": "code",
   "execution_count": 95,
   "metadata": {},
   "outputs": [
    {
     "data": {
      "text/plain": [
       "count     6327\n",
       "unique       3\n",
       "top        tcp\n",
       "freq      5180\n",
       "Name: protocol_type, dtype: object"
      ]
     },
     "execution_count": 95,
     "metadata": {},
     "output_type": "execute_result"
    }
   ],
   "source": [
    "#Statistics with the sample data\n",
    "connSample.protocol_type.describe()"
   ]
  },
  {
   "cell_type": "code",
   "execution_count": 96,
   "metadata": {},
   "outputs": [
    {
     "data": {
      "image/png": "[encoded data removed]",
      "text/plain": [
       "<matplotlib.figure.Figure at 0x7f93a0f267f0>"
      ]
     },
     "metadata": {},
     "output_type": "display_data"
    }
   ],
   "source": [
    "sns.countplot(x='protocol_type', data = connSample, palette='Paired');"
   ]
  },
  {
   "cell_type": "code",
   "execution_count": 97,
   "metadata": {
    "scrolled": true
   },
   "outputs": [
    {
     "name": "stdout",
     "output_type": "stream",
     "text": [
      "Percentages of protocol_type: \n",
      "tcp     0.818713\n",
      "udp     0.116643\n",
      "icmp    0.064644\n",
      "Name: protocol_type, dtype: float64\n"
     ]
    }
   ],
   "source": [
    "print(\"Percentages of protocol_type: \")\n",
    "print(1.0*connSample.protocol_type.value_counts()/len(connSample.protocol_type))"
   ]
  },
  {
   "cell_type": "markdown",
   "metadata": {},
   "source": [
    "------------------------------"
   ]
  },
  {
   "cell_type": "markdown",
   "metadata": {},
   "source": [
    "* **name:** service\n",
    "* **description:** network service on the destination, e.g., http, telnet, etc.\n",
    "* **type:** discrete"
   ]
  },
  {
   "cell_type": "code",
   "execution_count": 98,
   "metadata": {
    "scrolled": false
   },
   "outputs": [
    {
     "data": {
      "text/html": [
       "<div>\n",
       "<table border=\"1\" class=\"dataframe\">\n",
       "  <thead>\n",
       "    <tr style=\"text-align: right;\">\n",
       "      <th></th>\n",
       "      <th>summary</th>\n",
       "      <th>service</th>\n",
       "    </tr>\n",
       "  </thead>\n",
       "  <tbody>\n",
       "    <tr>\n",
       "      <th>0</th>\n",
       "      <td>count</td>\n",
       "      <td>125973</td>\n",
       "    </tr>\n",
       "    <tr>\n",
       "      <th>1</th>\n",
       "      <td>mean</td>\n",
       "      <td>None</td>\n",
       "    </tr>\n",
       "    <tr>\n",
       "      <th>2</th>\n",
       "      <td>stddev</td>\n",
       "      <td>None</td>\n",
       "    </tr>\n",
       "    <tr>\n",
       "      <th>3</th>\n",
       "      <td>min</td>\n",
       "      <td>IRC</td>\n",
       "    </tr>\n",
       "    <tr>\n",
       "      <th>4</th>\n",
       "      <td>max</td>\n",
       "      <td>whois</td>\n",
       "    </tr>\n",
       "  </tbody>\n",
       "</table>\n",
       "</div>"
      ],
      "text/plain": [
       "  summary service\n",
       "0   count  125973\n",
       "1    mean    None\n",
       "2  stddev    None\n",
       "3     min     IRC\n",
       "4     max   whois"
      ]
     },
     "execution_count": 98,
     "metadata": {},
     "output_type": "execute_result"
    }
   ],
   "source": [
    "#Statistics with all data\n",
    "conn.describe('service').toPandas()"
   ]
  },
  {
   "cell_type": "code",
   "execution_count": 99,
   "metadata": {
    "scrolled": true
   },
   "outputs": [
    {
     "data": {
      "text/plain": [
       "Row(service_freqItems=['whois', 'imap4', 'http_2784', 'uucp', 'netbios_ns', 'urp_i', 'courier', 'mtp', 'uucp_path', 'ntp_u', 'domain', 'csnet_ns', 'ldap', 'private', 'aol', 'netbios_dgm', 'ftp_data', 'nnsp', 'netstat', 'Z39_50', 'kshell', 'iso_tsap', 'remote_job', 'http_8001', 'sunrpc', 'domain_u', 'ftp', 'tftp_u', 'tim_i', 'pop_3', 'link', 'bgp', 'netbios_ssn', 'discard', 'hostnames', 'sql_net', 'pop_2', 'name', 'finger', 'vmnet', 'klogin', 'smtp', 'shell', 'http_443', 'rje', 'X11', 'urh_i', 'eco_i', 'IRC', 'nntp', 'time', 'ecr_i', 'daytime', 'exec', 'harvest', 'ctf', 'auth', 'efs', 'gopher', 'echo', 'http', 'printer', 'telnet', 'supdup', 'pm_dump', 'red_i', 'systat', 'other', 'login', 'ssh'])"
      ]
     },
     "execution_count": 99,
     "metadata": {},
     "output_type": "execute_result"
    }
   ],
   "source": [
    "#Get all different values\n",
    "conn.freqItems(['service']).collect()[0]"
   ]
  },
  {
   "cell_type": "code",
   "execution_count": 100,
   "metadata": {
    "scrolled": false
   },
   "outputs": [
    {
     "data": {
      "text/plain": [
       "[('http', 0.32021147388726157),\n",
       " ('private', 0.17347368086812254),\n",
       " ('domain_u', 0.07178522381780222),\n",
       " ('smtp', 0.05805212228017115),\n",
       " ('ftp_data', 0.05445611361164694),\n",
       " ('eco_i', 0.0364046263881943),\n",
       " ('other', 0.034602652949441544),\n",
       " ('ecr_i', 0.024425869035428226),\n",
       " ('telnet', 0.018678605732974526),\n",
       " ('finger', 0.014026815269938797),\n",
       " ('ftp', 0.013923618553182032),\n",
       " ('auth', 0.007580989577131608),\n",
       " ('Z39_50', 0.006842736141871671),\n",
       " ('uucp', 0.006191803005405921),\n",
       " ('courier', 0.005826645392266597),\n",
       " ('bgp', 0.0056361283767156455),\n",
       " ('whois', 0.005501178824033721),\n",
       " ('uucp_path', 0.005469425988108563),\n",
       " ('iso_tsap', 0.005453549570145984),\n",
       " ('time', 0.005191588673763426),\n",
       " ('imap4', 0.005136021210894398),\n",
       " ('nnsp', 0.005001071658212474),\n",
       " ('vmnet', 0.0048978749414557085),\n",
       " ('urp_i', 0.004778801806736364),\n",
       " ('domain', 0.004516840910353806),\n",
       " ('ctf', 0.004469211656466068),\n",
       " ('csnet_ns', 0.004326323894802854),\n",
       " ('supdup', 0.004318385685821565),\n",
       " ('discard', 0.004270756431933827),\n",
       " ('http_443', 0.00420725076008351),\n",
       " ('daytime', 0.004135806879251904),\n",
       " ('gopher', 0.004111992252308034),\n",
       " ('efs', 0.003850031355925476),\n",
       " ('systat', 0.003786525684075159),\n",
       " ('link', 0.0037706492661125795),\n",
       " ('exec', 0.00376271105713129),\n",
       " ('hostnames', 0.003651576131393235),\n",
       " ('name', 0.0035801322505616285),\n",
       " ('mtp', 0.0034848737427861528),\n",
       " ('echo', 0.0034451826978797043),\n",
       " ('klogin', 0.0034372444888984147),\n",
       " ('login', 0.0034054916529732563),\n",
       " ('ldap', 0.003254665682328753),\n",
       " ('netbios_dgm', 0.003214974637422305),\n",
       " ('sunrpc', 0.0030244576218713534),\n",
       " ('netbios_ssn', 0.0028736316512268504),\n",
       " ('netstat', 0.0028577552332642708),\n",
       " ('netbios_ns', 0.0027545585165075054),\n",
       " ('ssh', 0.0024687829931810783),\n",
       " ('kshell', 0.002373524485405603),\n",
       " ('nntp', 0.0023497098584617337),\n",
       " ('pop_3', 0.0020956871710604654),\n",
       " ('sql_net', 0.0019448612004159622),\n",
       " ('IRC', 0.0014844450795011628),\n",
       " ('ntp_u', 0.0013336191088566597),\n",
       " ('rje', 0.0006826859723909092),\n",
       " ('pop_2', 0.0006191803005405921),\n",
       " ('remote_job', 0.0006191803005405921),\n",
       " ('X11', 0.0005794892556341438),\n",
       " ('printer', 0.0005477364197089853),\n",
       " ('shell', 0.0005159835837838266),\n",
       " ('urh_i', 7.938208981289641e-05),\n",
       " ('red_i', 6.350567185031713e-05),\n",
       " ('tim_i', 6.350567185031713e-05),\n",
       " ('pm_dump', 3.9691044906448206e-05),\n",
       " ('tftp_u', 2.3814626943868923e-05),\n",
       " ('harvest', 1.5876417962579282e-05),\n",
       " ('aol', 1.5876417962579282e-05),\n",
       " ('http_8001', 1.5876417962579282e-05),\n",
       " ('http_2784', 7.938208981289641e-06)]"
      ]
     },
     "execution_count": 100,
     "metadata": {},
     "output_type": "execute_result"
    }
   ],
   "source": [
    "#Get the percentage of the values\n",
    "percentageOf(conn, 'service')"
   ]
  },
  {
   "cell_type": "code",
   "execution_count": 101,
   "metadata": {},
   "outputs": [
    {
     "data": {
      "text/plain": [
       "count     6327\n",
       "unique      63\n",
       "top       http\n",
       "freq      1942\n",
       "Name: service, dtype: object"
      ]
     },
     "execution_count": 101,
     "metadata": {},
     "output_type": "execute_result"
    }
   ],
   "source": [
    "connSample.service.describe()"
   ]
  },
  {
   "cell_type": "code",
   "execution_count": 102,
   "metadata": {},
   "outputs": [
    {
     "data": {
      "image/png": "[encoded data removed]",
      "text/plain": [
       "<matplotlib.figure.Figure at 0x7f93a11390f0>"
      ]
     },
     "metadata": {},
     "output_type": "display_data"
    }
   ],
   "source": [
    "sns.countplot(x='service', data=connSample, palette='Paired');"
   ]
  },
  {
   "cell_type": "code",
   "execution_count": 103,
   "metadata": {},
   "outputs": [
    {
     "data": {
      "image/png": "[encoded data removed]",
      "text/plain": [
       "<matplotlib.figure.Figure at 0x7f93a143feb8>"
      ]
     },
     "metadata": {},
     "output_type": "display_data"
    }
   ],
   "source": [
    "sns.set(font= 'serif', font_scale= 0.65)\n",
    "sns.countplot(y='service', data=connSample, palette='Paired');"
   ]
  },
  {
   "cell_type": "code",
   "execution_count": 104,
   "metadata": {},
   "outputs": [
    {
     "name": "stdout",
     "output_type": "stream",
     "text": [
      "Percentages of service's value:\n",
      "http           0.306939\n",
      "private        0.166430\n",
      "domain_u       0.069859\n",
      "ftp_data       0.062589\n",
      "smtp           0.057531\n",
      "eco_i          0.037775\n",
      "other          0.036826\n",
      "ecr_i          0.022760\n",
      "telnet         0.021811\n",
      "finger         0.014857\n",
      "ftp            0.012644\n",
      "Z39_50         0.008219\n",
      "auth           0.007587\n",
      "bgp            0.007112\n",
      "uucp_path      0.006796\n",
      "time           0.006638\n",
      "courier        0.006638\n",
      "uucp           0.006164\n",
      "imap4          0.006006\n",
      "csnet_ns       0.005848\n",
      "nnsp           0.005216\n",
      "discard        0.005216\n",
      "efs            0.005216\n",
      "iso_tsap       0.005216\n",
      "http_443       0.004900\n",
      "daytime        0.004742\n",
      "vmnet          0.004742\n",
      "link           0.004425\n",
      "klogin         0.004425\n",
      "exec           0.004267\n",
      "                 ...   \n",
      "urp_i          0.003793\n",
      "supdup         0.003793\n",
      "name           0.003635\n",
      "systat         0.003477\n",
      "ctf            0.003477\n",
      "ldap           0.003477\n",
      "netstat        0.003477\n",
      "netbios_dgm    0.003477\n",
      "hostnames      0.003319\n",
      "domain         0.003319\n",
      "netbios_ssn    0.003161\n",
      "ssh            0.003161\n",
      "login          0.002845\n",
      "sunrpc         0.002845\n",
      "pop_3          0.002687\n",
      "netbios_ns     0.002687\n",
      "mtp            0.002371\n",
      "sql_net        0.002055\n",
      "kshell         0.001739\n",
      "nntp           0.001739\n",
      "IRC            0.001422\n",
      "shell          0.001264\n",
      "remote_job     0.001264\n",
      "pop_2          0.001106\n",
      "X11            0.000948\n",
      "ntp_u          0.000790\n",
      "rje            0.000632\n",
      "printer        0.000474\n",
      "tim_i          0.000158\n",
      "urh_i          0.000158\n",
      "Name: service, dtype: float64\n"
     ]
    }
   ],
   "source": [
    "print(\"Percentages of service's value:\")\n",
    "print(1.0*connSample.service.value_counts()/len(connSample.service))"
   ]
  },
  {
   "cell_type": "markdown",
   "metadata": {},
   "source": [
    "---"
   ]
  },
  {
   "cell_type": "markdown",
   "metadata": {},
   "source": [
    "* **name:** flag\n",
    "* **description:** normal or error status of the connection. The possible status are this: SF, S0, S1, S2, S3, OTH, REJ, RSTO, RSTOS0, SH, RSTRH, SHR\n",
    "* **type:** discrete"
   ]
  },
  {
   "cell_type": "code",
   "execution_count": 105,
   "metadata": {
    "scrolled": false
   },
   "outputs": [
    {
     "data": {
      "text/html": [
       "<div>\n",
       "<table border=\"1\" class=\"dataframe\">\n",
       "  <thead>\n",
       "    <tr style=\"text-align: right;\">\n",
       "      <th></th>\n",
       "      <th>summary</th>\n",
       "      <th>flag</th>\n",
       "    </tr>\n",
       "  </thead>\n",
       "  <tbody>\n",
       "    <tr>\n",
       "      <th>0</th>\n",
       "      <td>count</td>\n",
       "      <td>125973</td>\n",
       "    </tr>\n",
       "    <tr>\n",
       "      <th>1</th>\n",
       "      <td>mean</td>\n",
       "      <td>None</td>\n",
       "    </tr>\n",
       "    <tr>\n",
       "      <th>2</th>\n",
       "      <td>stddev</td>\n",
       "      <td>None</td>\n",
       "    </tr>\n",
       "    <tr>\n",
       "      <th>3</th>\n",
       "      <td>min</td>\n",
       "      <td>OTH</td>\n",
       "    </tr>\n",
       "    <tr>\n",
       "      <th>4</th>\n",
       "      <td>max</td>\n",
       "      <td>SH</td>\n",
       "    </tr>\n",
       "  </tbody>\n",
       "</table>\n",
       "</div>"
      ],
      "text/plain": [
       "  summary    flag\n",
       "0   count  125973\n",
       "1    mean    None\n",
       "2  stddev    None\n",
       "3     min     OTH\n",
       "4     max      SH"
      ]
     },
     "execution_count": 105,
     "metadata": {},
     "output_type": "execute_result"
    }
   ],
   "source": [
    "#Statistics with all data\n",
    "conn.describe('flag').toPandas()"
   ]
  },
  {
   "cell_type": "code",
   "execution_count": 106,
   "metadata": {},
   "outputs": [
    {
     "data": {
      "text/plain": [
       "Row(flag_freqItems=['RSTOS0', 'SF', 'REJ', 'S1', 'OTH', 'S0', 'S3', 'SH', 'S2', 'RSTO', 'RSTR'])"
      ]
     },
     "execution_count": 106,
     "metadata": {},
     "output_type": "execute_result"
    }
   ],
   "source": [
    "#Get all different values\n",
    "conn.freqItems(['flag']).collect()[0]"
   ]
  },
  {
   "cell_type": "code",
   "execution_count": 107,
   "metadata": {},
   "outputs": [
    {
     "data": {
      "text/plain": [
       "[('SF', 0.5949290721027521),\n",
       " ('S0', 0.2766545212069253),\n",
       " ('REJ', 0.08916990148682655),\n",
       " ('RSTR', 0.019218403943702222),\n",
       " ('RSTO', 0.01239948242877442),\n",
       " ('S1', 0.0028974462781707192),\n",
       " ('SH', 0.0021512546339294927),\n",
       " ('S2', 0.0010081525406237845),\n",
       " ('RSTOS0', 0.000817635525072833),\n",
       " ('S3', 0.00038897224008319244),\n",
       " ('OTH', 0.0003651576131393235)]"
      ]
     },
     "execution_count": 107,
     "metadata": {},
     "output_type": "execute_result"
    }
   ],
   "source": [
    "#Get the percentage of the values\n",
    "percentageOf(conn, 'flag')"
   ]
  },
  {
   "cell_type": "code",
   "execution_count": 108,
   "metadata": {},
   "outputs": [
    {
     "data": {
      "text/plain": [
       "count     6327\n",
       "unique      11\n",
       "top         SF\n",
       "freq      3699\n",
       "Name: flag, dtype: object"
      ]
     },
     "execution_count": 108,
     "metadata": {},
     "output_type": "execute_result"
    }
   ],
   "source": [
    "#Get stats with the Sample\n",
    "connSample.flag.describe()"
   ]
  },
  {
   "cell_type": "code",
   "execution_count": 109,
   "metadata": {},
   "outputs": [
    {
     "data": {
      "image/png": "[encoded data removed]",
      "text/plain": [
       "<matplotlib.figure.Figure at 0x7f93a0d453c8>"
      ]
     },
     "metadata": {},
     "output_type": "display_data"
    }
   ],
   "source": [
    "sns.countplot(x='flag', data=connSample, palette='Paired');"
   ]
  },
  {
   "cell_type": "code",
   "execution_count": 110,
   "metadata": {},
   "outputs": [
    {
     "data": {
      "text/plain": [
       "SF        3699\n",
       "S0        1770\n",
       "REJ        604\n",
       "RSTR       130\n",
       "RSTO        69\n",
       "S1          19\n",
       "SH          17\n",
       "S2           8\n",
       "RSTOS0       7\n",
       "S3           3\n",
       "OTH          1\n",
       "Name: flag, dtype: int64"
      ]
     },
     "execution_count": 110,
     "metadata": {},
     "output_type": "execute_result"
    }
   ],
   "source": [
    "connSample.flag.value_counts()"
   ]
  },
  {
   "cell_type": "code",
   "execution_count": 111,
   "metadata": {},
   "outputs": [
    {
     "name": "stdout",
     "output_type": "stream",
     "text": [
      "Percentages of flag's value:\n",
      "SF        0.584637\n",
      "S0        0.279753\n",
      "REJ       0.095464\n",
      "RSTR      0.020547\n",
      "RSTO      0.010906\n",
      "S1        0.003003\n",
      "SH        0.002687\n",
      "S2        0.001264\n",
      "RSTOS0    0.001106\n",
      "S3        0.000474\n",
      "OTH       0.000158\n",
      "Name: flag, dtype: float64\n"
     ]
    }
   ],
   "source": [
    "print(\"Percentages of flag's value:\")\n",
    "print(1.0*connSample.flag.value_counts()/len(connSample.flag))"
   ]
  },
  {
   "cell_type": "markdown",
   "metadata": {},
   "source": [
    "---"
   ]
  },
  {
   "cell_type": "markdown",
   "metadata": {},
   "source": [
    "* **name:** src_bytes\n",
    "* **description:** number of data bytes from source to destination\n",
    "* **type:** continuous"
   ]
  },
  {
   "cell_type": "code",
   "execution_count": 112,
   "metadata": {
    "scrolled": false
   },
   "outputs": [
    {
     "data": {
      "text/html": [
       "<div>\n",
       "<table border=\"1\" class=\"dataframe\">\n",
       "  <thead>\n",
       "    <tr style=\"text-align: right;\">\n",
       "      <th></th>\n",
       "      <th>summary</th>\n",
       "      <th>src_bytes</th>\n",
       "    </tr>\n",
       "  </thead>\n",
       "  <tbody>\n",
       "    <tr>\n",
       "      <th>0</th>\n",
       "      <td>count</td>\n",
       "      <td>125973</td>\n",
       "    </tr>\n",
       "    <tr>\n",
       "      <th>1</th>\n",
       "      <td>mean</td>\n",
       "      <td>45566.74271470871</td>\n",
       "    </tr>\n",
       "    <tr>\n",
       "      <th>2</th>\n",
       "      <td>stddev</td>\n",
       "      <td>5870331.156168299</td>\n",
       "    </tr>\n",
       "    <tr>\n",
       "      <th>3</th>\n",
       "      <td>min</td>\n",
       "      <td>0.0</td>\n",
       "    </tr>\n",
       "    <tr>\n",
       "      <th>4</th>\n",
       "      <td>max</td>\n",
       "      <td>1.3799639E9</td>\n",
       "    </tr>\n",
       "  </tbody>\n",
       "</table>\n",
       "</div>"
      ],
      "text/plain": [
       "  summary          src_bytes\n",
       "0   count             125973\n",
       "1    mean  45566.74271470871\n",
       "2  stddev  5870331.156168299\n",
       "3     min                0.0\n",
       "4     max        1.3799639E9"
      ]
     },
     "execution_count": 112,
     "metadata": {},
     "output_type": "execute_result"
    }
   ],
   "source": [
    "#Statistics with all data\n",
    "conn.describe('src_bytes').toPandas()"
   ]
  },
  {
   "cell_type": "code",
   "execution_count": 113,
   "metadata": {},
   "outputs": [
    {
     "data": {
      "text/plain": [
       "count    6.327000e+03\n",
       "mean     1.312748e+04\n",
       "std      2.047189e+05\n",
       "min      0.000000e+00\n",
       "25%      0.000000e+00\n",
       "50%      4.300000e+01\n",
       "75%      2.675000e+02\n",
       "max      7.847476e+06\n",
       "Name: src_bytes, dtype: float64"
      ]
     },
     "execution_count": 113,
     "metadata": {},
     "output_type": "execute_result"
    }
   ],
   "source": [
    "#Stats with the sample\n",
    "connSample.src_bytes.describe()"
   ]
  },
  {
   "cell_type": "code",
   "execution_count": 114,
   "metadata": {},
   "outputs": [
    {
     "data": {
      "image/png": "[encoded data removed]",
      "text/plain": [
       "<matplotlib.figure.Figure at 0x7f93a110aa90>"
      ]
     },
     "metadata": {},
     "output_type": "display_data"
    }
   ],
   "source": [
    "sns.distplot(connSample.src_bytes, bins=10);"
   ]
  },
  {
   "cell_type": "markdown",
   "metadata": {},
   "source": [
    "##### Skew distribution -> log transformation"
   ]
  },
  {
   "cell_type": "code",
   "execution_count": 115,
   "metadata": {},
   "outputs": [
    {
     "data": {
      "text/plain": [
       "count    6327.000000\n",
       "mean        3.176047\n",
       "std         3.024883\n",
       "min         0.000000\n",
       "25%         0.000000\n",
       "50%         3.784190\n",
       "75%         5.592849\n",
       "max        15.875703\n",
       "Name: src_bytes, dtype: float64"
      ]
     },
     "execution_count": 115,
     "metadata": {},
     "output_type": "execute_result"
    }
   ],
   "source": [
    "np.log(connSample.src_bytes+1).describe()"
   ]
  },
  {
   "cell_type": "code",
   "execution_count": 116,
   "metadata": {},
   "outputs": [
    {
     "data": {
      "image/png": "[encoded data removed]",
      "text/plain": [
       "<matplotlib.figure.Figure at 0x7f93a0f4c208>"
      ]
     },
     "metadata": {},
     "output_type": "display_data"
    }
   ],
   "source": [
    "sns.distplot(np.log(connSample.src_bytes+1), bins = 10);"
   ]
  },
  {
   "cell_type": "markdown",
   "metadata": {},
   "source": [
    "---"
   ]
  },
  {
   "cell_type": "markdown",
   "metadata": {},
   "source": [
    "* **name:** dst_bytes\n",
    "* **description:** number of data bytes from destination to source\n",
    "* **type:** continuous"
   ]
  },
  {
   "cell_type": "code",
   "execution_count": 117,
   "metadata": {
    "scrolled": false
   },
   "outputs": [
    {
     "data": {
      "text/html": [
       "<div>\n",
       "<table border=\"1\" class=\"dataframe\">\n",
       "  <thead>\n",
       "    <tr style=\"text-align: right;\">\n",
       "      <th></th>\n",
       "      <th>summary</th>\n",
       "      <th>dst_bytes</th>\n",
       "    </tr>\n",
       "  </thead>\n",
       "  <tbody>\n",
       "    <tr>\n",
       "      <th>0</th>\n",
       "      <td>count</td>\n",
       "      <td>125973</td>\n",
       "    </tr>\n",
       "    <tr>\n",
       "      <th>1</th>\n",
       "      <td>mean</td>\n",
       "      <td>19779.114667428734</td>\n",
       "    </tr>\n",
       "    <tr>\n",
       "      <th>2</th>\n",
       "      <td>stddev</td>\n",
       "      <td>4021269.1885064766</td>\n",
       "    </tr>\n",
       "    <tr>\n",
       "      <th>3</th>\n",
       "      <td>min</td>\n",
       "      <td>0.0</td>\n",
       "    </tr>\n",
       "    <tr>\n",
       "      <th>4</th>\n",
       "      <td>max</td>\n",
       "      <td>1.30993741E9</td>\n",
       "    </tr>\n",
       "  </tbody>\n",
       "</table>\n",
       "</div>"
      ],
      "text/plain": [
       "  summary           dst_bytes\n",
       "0   count              125973\n",
       "1    mean  19779.114667428734\n",
       "2  stddev  4021269.1885064766\n",
       "3     min                 0.0\n",
       "4     max        1.30993741E9"
      ]
     },
     "execution_count": 117,
     "metadata": {},
     "output_type": "execute_result"
    }
   ],
   "source": [
    "#Statistics with all data\n",
    "conn.describe('dst_bytes').toPandas()"
   ]
  },
  {
   "cell_type": "code",
   "execution_count": 118,
   "metadata": {},
   "outputs": [
    {
     "data": {
      "text/html": [
       "<div>\n",
       "<table border=\"1\" class=\"dataframe\">\n",
       "  <thead>\n",
       "    <tr style=\"text-align: right;\">\n",
       "      <th></th>\n",
       "      <th>summary</th>\n",
       "      <th>LOG((dst_bytes + 1))</th>\n",
       "    </tr>\n",
       "  </thead>\n",
       "  <tbody>\n",
       "    <tr>\n",
       "      <th>0</th>\n",
       "      <td>count</td>\n",
       "      <td>125973</td>\n",
       "    </tr>\n",
       "    <tr>\n",
       "      <th>1</th>\n",
       "      <td>mean</td>\n",
       "      <td>3.084399587176607</td>\n",
       "    </tr>\n",
       "    <tr>\n",
       "      <th>2</th>\n",
       "      <td>stddev</td>\n",
       "      <td>3.5489269852523235</td>\n",
       "    </tr>\n",
       "    <tr>\n",
       "      <th>3</th>\n",
       "      <td>min</td>\n",
       "      <td>0.0</td>\n",
       "    </tr>\n",
       "    <tr>\n",
       "      <th>4</th>\n",
       "      <td>max</td>\n",
       "      <td>20.99324519286529</td>\n",
       "    </tr>\n",
       "  </tbody>\n",
       "</table>\n",
       "</div>"
      ],
      "text/plain": [
       "  summary LOG((dst_bytes + 1))\n",
       "0   count               125973\n",
       "1    mean    3.084399587176607\n",
       "2  stddev   3.5489269852523235\n",
       "3     min                  0.0\n",
       "4     max    20.99324519286529"
      ]
     },
     "execution_count": 118,
     "metadata": {},
     "output_type": "execute_result"
    }
   ],
   "source": [
    "#Log transformation with all data\n",
    "conn.select(log(conn['dst_bytes']+1)).describe().toPandas()"
   ]
  },
  {
   "cell_type": "code",
   "execution_count": 119,
   "metadata": {},
   "outputs": [
    {
     "data": {
      "text/plain": [
       "count    6327.000000\n",
       "mean        2.969498\n",
       "std         3.525178\n",
       "min         0.000000\n",
       "25%         0.000000\n",
       "50%         0.000000\n",
       "75%         6.125776\n",
       "max        15.451438\n",
       "Name: dst_bytes, dtype: float64"
      ]
     },
     "execution_count": 119,
     "metadata": {},
     "output_type": "execute_result"
    }
   ],
   "source": [
    "#Statistics with sample data\n",
    "np.log(connSample.dst_bytes+1).describe()"
   ]
  },
  {
   "cell_type": "code",
   "execution_count": 120,
   "metadata": {},
   "outputs": [
    {
     "data": {
      "image/png": "[encoded data removed]",
      "text/plain": [
       "<matplotlib.figure.Figure at 0x7f93a116cbe0>"
      ]
     },
     "metadata": {},
     "output_type": "display_data"
    }
   ],
   "source": [
    "sns.distplot(np.log(connSample.dst_bytes+1), bins = 10);"
   ]
  },
  {
   "cell_type": "markdown",
   "metadata": {},
   "source": [
    "---"
   ]
  },
  {
   "cell_type": "markdown",
   "metadata": {},
   "source": [
    "* **name:** land\n",
    "* **description:** 1 if connection is from/to the same host/port; 0 otherwise\n",
    "* **type:** discrete"
   ]
  },
  {
   "cell_type": "code",
   "execution_count": 121,
   "metadata": {
    "scrolled": true
   },
   "outputs": [
    {
     "data": {
      "text/html": [
       "<div>\n",
       "<table border=\"1\" class=\"dataframe\">\n",
       "  <thead>\n",
       "    <tr style=\"text-align: right;\">\n",
       "      <th></th>\n",
       "      <th>summary</th>\n",
       "      <th>land</th>\n",
       "    </tr>\n",
       "  </thead>\n",
       "  <tbody>\n",
       "    <tr>\n",
       "      <th>0</th>\n",
       "      <td>count</td>\n",
       "      <td>125973</td>\n",
       "    </tr>\n",
       "    <tr>\n",
       "      <th>1</th>\n",
       "      <td>mean</td>\n",
       "      <td>1.9845522453224102E-4</td>\n",
       "    </tr>\n",
       "    <tr>\n",
       "      <th>2</th>\n",
       "      <td>stddev</td>\n",
       "      <td>0.014086071671513122</td>\n",
       "    </tr>\n",
       "    <tr>\n",
       "      <th>3</th>\n",
       "      <td>min</td>\n",
       "      <td>0</td>\n",
       "    </tr>\n",
       "    <tr>\n",
       "      <th>4</th>\n",
       "      <td>max</td>\n",
       "      <td>1</td>\n",
       "    </tr>\n",
       "  </tbody>\n",
       "</table>\n",
       "</div>"
      ],
      "text/plain": [
       "  summary                   land\n",
       "0   count                 125973\n",
       "1    mean  1.9845522453224102E-4\n",
       "2  stddev   0.014086071671513122\n",
       "3     min                      0\n",
       "4     max                      1"
      ]
     },
     "execution_count": 121,
     "metadata": {},
     "output_type": "execute_result"
    }
   ],
   "source": [
    "#Statistics with all data\n",
    "conn.describe('land').toPandas()"
   ]
  },
  {
   "cell_type": "code",
   "execution_count": 122,
   "metadata": {},
   "outputs": [
    {
     "data": {
      "text/plain": [
       "[('0', 125948), ('1', 25)]"
      ]
     },
     "execution_count": 122,
     "metadata": {},
     "output_type": "execute_result"
    }
   ],
   "source": [
    "numberOf(conn, 'land')"
   ]
  },
  {
   "cell_type": "code",
   "execution_count": 123,
   "metadata": {},
   "outputs": [
    {
     "data": {
      "text/plain": [
       "count     6327\n",
       "unique       2\n",
       "top          0\n",
       "freq      6326\n",
       "Name: land, dtype: object"
      ]
     },
     "execution_count": 123,
     "metadata": {},
     "output_type": "execute_result"
    }
   ],
   "source": [
    "connSample.land.describe()"
   ]
  },
  {
   "cell_type": "code",
   "execution_count": 124,
   "metadata": {},
   "outputs": [
    {
     "data": {
      "image/png": "[encoded data removed]",
      "text/plain": [
       "<matplotlib.figure.Figure at 0x7f93a1002240>"
      ]
     },
     "metadata": {},
     "output_type": "display_data"
    }
   ],
   "source": [
    "sns.countplot(x='land', data=connSample, palette='Paired');"
   ]
  },
  {
   "cell_type": "code",
   "execution_count": 125,
   "metadata": {},
   "outputs": [
    {
     "data": {
      "text/plain": [
       "0    6326\n",
       "1       1\n",
       "Name: land, dtype: int64"
      ]
     },
     "execution_count": 125,
     "metadata": {},
     "output_type": "execute_result"
    }
   ],
   "source": [
    "connSample.land.value_counts()"
   ]
  },
  {
   "cell_type": "code",
   "execution_count": 126,
   "metadata": {},
   "outputs": [
    {
     "name": "stdout",
     "output_type": "stream",
     "text": [
      "Percentages of lands's value:\n",
      "0    0.999842\n",
      "1    0.000158\n",
      "Name: land, dtype: float64\n"
     ]
    }
   ],
   "source": [
    "print(\"Percentages of lands's value:\")\n",
    "print(1.0*connSample.land.value_counts()/len(connSample.land))"
   ]
  },
  {
   "cell_type": "markdown",
   "metadata": {},
   "source": [
    "---"
   ]
  },
  {
   "cell_type": "markdown",
   "metadata": {},
   "source": [
    "* **name:** wrong_fragment\t\n",
    "* **description:** sum of bad checksum packets in a connection\n",
    "* **type:** continuous"
   ]
  },
  {
   "cell_type": "code",
   "execution_count": 127,
   "metadata": {
    "scrolled": true
   },
   "outputs": [
    {
     "data": {
      "text/html": [
       "<div>\n",
       "<table border=\"1\" class=\"dataframe\">\n",
       "  <thead>\n",
       "    <tr style=\"text-align: right;\">\n",
       "      <th></th>\n",
       "      <th>summary</th>\n",
       "      <th>wrong_fragment</th>\n",
       "    </tr>\n",
       "  </thead>\n",
       "  <tbody>\n",
       "    <tr>\n",
       "      <th>0</th>\n",
       "      <td>count</td>\n",
       "      <td>125973</td>\n",
       "    </tr>\n",
       "    <tr>\n",
       "      <th>1</th>\n",
       "      <td>mean</td>\n",
       "      <td>0.022687401268525795</td>\n",
       "    </tr>\n",
       "    <tr>\n",
       "      <th>2</th>\n",
       "      <td>stddev</td>\n",
       "      <td>0.2535299859520133</td>\n",
       "    </tr>\n",
       "    <tr>\n",
       "      <th>3</th>\n",
       "      <td>min</td>\n",
       "      <td>0.0</td>\n",
       "    </tr>\n",
       "    <tr>\n",
       "      <th>4</th>\n",
       "      <td>max</td>\n",
       "      <td>3.0</td>\n",
       "    </tr>\n",
       "  </tbody>\n",
       "</table>\n",
       "</div>"
      ],
      "text/plain": [
       "  summary        wrong_fragment\n",
       "0   count                125973\n",
       "1    mean  0.022687401268525795\n",
       "2  stddev    0.2535299859520133\n",
       "3     min                   0.0\n",
       "4     max                   3.0"
      ]
     },
     "execution_count": 127,
     "metadata": {},
     "output_type": "execute_result"
    }
   ],
   "source": [
    "#Statistics with all data\n",
    "conn.describe('wrong_fragment').toPandas()"
   ]
  },
  {
   "cell_type": "code",
   "execution_count": 128,
   "metadata": {},
   "outputs": [
    {
     "data": {
      "text/plain": [
       "[(0.0, 124883), (3.0, 884), (1.0, 206)]"
      ]
     },
     "execution_count": 128,
     "metadata": {},
     "output_type": "execute_result"
    }
   ],
   "source": [
    "#Get the percentage of the values\n",
    "numberOf(conn, 'wrong_fragment')"
   ]
  },
  {
   "cell_type": "code",
   "execution_count": 129,
   "metadata": {
    "scrolled": true
   },
   "outputs": [
    {
     "data": {
      "text/plain": [
       "count    6327.000000\n",
       "mean        0.022443\n",
       "std         0.254213\n",
       "min         0.000000\n",
       "25%         0.000000\n",
       "50%         0.000000\n",
       "75%         0.000000\n",
       "max         3.000000\n",
       "Name: wrong_fragment, dtype: float64"
      ]
     },
     "execution_count": 129,
     "metadata": {},
     "output_type": "execute_result"
    }
   ],
   "source": [
    "#Stat from sample data\n",
    "connSample.wrong_fragment.describe()"
   ]
  },
  {
   "cell_type": "code",
   "execution_count": 130,
   "metadata": {},
   "outputs": [
    {
     "data": {
      "image/png": "[encoded data removed]",
      "text/plain": [
       "<matplotlib.figure.Figure at 0x7f93d9717080>"
      ]
     },
     "metadata": {},
     "output_type": "display_data"
    }
   ],
   "source": [
    "sns.countplot(x= 'wrong_fragment', data= connSample, palette='Paired');"
   ]
  },
  {
   "cell_type": "code",
   "execution_count": 131,
   "metadata": {},
   "outputs": [
    {
     "data": {
      "text/plain": [
       "0.0    6275\n",
       "3.0      45\n",
       "1.0       7\n",
       "Name: wrong_fragment, dtype: int64"
      ]
     },
     "execution_count": 131,
     "metadata": {},
     "output_type": "execute_result"
    }
   ],
   "source": [
    "connSample.wrong_fragment.value_counts()"
   ]
  },
  {
   "cell_type": "code",
   "execution_count": 132,
   "metadata": {},
   "outputs": [
    {
     "name": "stdout",
     "output_type": "stream",
     "text": [
      "Percentages of wrong_fragment's value:\n",
      "0.0    0.991781\n",
      "3.0    0.007112\n",
      "1.0    0.001106\n",
      "Name: wrong_fragment, dtype: float64\n"
     ]
    }
   ],
   "source": [
    "print(\"Percentages of wrong_fragment's value:\")\n",
    "print(1.0*connSample.wrong_fragment.value_counts()/len(connSample.wrong_fragment))"
   ]
  },
  {
   "cell_type": "markdown",
   "metadata": {},
   "source": [
    "---"
   ]
  },
  {
   "cell_type": "markdown",
   "metadata": {},
   "source": [
    "* **name:** urgent\t\n",
    "* **description:** number of urgent packets. Urgent packets are packets with the urgent bit activated\n",
    "* **type:** continuous"
   ]
  },
  {
   "cell_type": "code",
   "execution_count": 133,
   "metadata": {
    "scrolled": false
   },
   "outputs": [
    {
     "data": {
      "text/html": [
       "<div>\n",
       "<table border=\"1\" class=\"dataframe\">\n",
       "  <thead>\n",
       "    <tr style=\"text-align: right;\">\n",
       "      <th></th>\n",
       "      <th>summary</th>\n",
       "      <th>urgent</th>\n",
       "    </tr>\n",
       "  </thead>\n",
       "  <tbody>\n",
       "    <tr>\n",
       "      <th>0</th>\n",
       "      <td>count</td>\n",
       "      <td>125973</td>\n",
       "    </tr>\n",
       "    <tr>\n",
       "      <th>1</th>\n",
       "      <td>mean</td>\n",
       "      <td>1.1113492573805498E-4</td>\n",
       "    </tr>\n",
       "    <tr>\n",
       "      <th>2</th>\n",
       "      <td>stddev</td>\n",
       "      <td>0.014366026620154248</td>\n",
       "    </tr>\n",
       "    <tr>\n",
       "      <th>3</th>\n",
       "      <td>min</td>\n",
       "      <td>0.0</td>\n",
       "    </tr>\n",
       "    <tr>\n",
       "      <th>4</th>\n",
       "      <td>max</td>\n",
       "      <td>3.0</td>\n",
       "    </tr>\n",
       "  </tbody>\n",
       "</table>\n",
       "</div>"
      ],
      "text/plain": [
       "  summary                 urgent\n",
       "0   count                 125973\n",
       "1    mean  1.1113492573805498E-4\n",
       "2  stddev   0.014366026620154248\n",
       "3     min                    0.0\n",
       "4     max                    3.0"
      ]
     },
     "execution_count": 133,
     "metadata": {},
     "output_type": "execute_result"
    }
   ],
   "source": [
    "#Statistics with all data\n",
    "conn.describe('urgent').toPandas()"
   ]
  },
  {
   "cell_type": "code",
   "execution_count": 134,
   "metadata": {},
   "outputs": [
    {
     "data": {
      "text/plain": [
       "[(0.0, 125964), (1.0, 5), (2.0, 3), (3.0, 1)]"
      ]
     },
     "execution_count": 134,
     "metadata": {},
     "output_type": "execute_result"
    }
   ],
   "source": [
    "#Get the percentage of the values\n",
    "numberOf(conn, 'urgent')"
   ]
  },
  {
   "cell_type": "code",
   "execution_count": 135,
   "metadata": {},
   "outputs": [
    {
     "data": {
      "text/plain": [
       "count    6327.000000\n",
       "mean        0.000316\n",
       "std         0.017778\n",
       "min         0.000000\n",
       "25%         0.000000\n",
       "50%         0.000000\n",
       "75%         0.000000\n",
       "max         1.000000\n",
       "Name: urgent, dtype: float64"
      ]
     },
     "execution_count": 135,
     "metadata": {},
     "output_type": "execute_result"
    }
   ],
   "source": [
    "connSample.urgent.describe()"
   ]
  },
  {
   "cell_type": "code",
   "execution_count": 136,
   "metadata": {},
   "outputs": [
    {
     "data": {
      "text/plain": [
       "0.0    6325\n",
       "1.0       2\n",
       "Name: urgent, dtype: int64"
      ]
     },
     "execution_count": 136,
     "metadata": {},
     "output_type": "execute_result"
    }
   ],
   "source": [
    "connSample.urgent.value_counts()"
   ]
  },
  {
   "cell_type": "code",
   "execution_count": 137,
   "metadata": {},
   "outputs": [
    {
     "name": "stdout",
     "output_type": "stream",
     "text": [
      "Percentages of urgent's value:\n",
      "0.0    0.999684\n",
      "1.0    0.000316\n",
      "Name: urgent, dtype: float64\n"
     ]
    }
   ],
   "source": [
    "print(\"Percentages of urgent's value:\")\n",
    "print(1.0*connSample.urgent.value_counts()/len(connSample.urgent))"
   ]
  },
  {
   "cell_type": "code",
   "execution_count": 138,
   "metadata": {},
   "outputs": [
    {
     "data": {
      "image/png": "[encoded data removed]",
      "text/plain": [
       "<matplotlib.figure.Figure at 0x7f93a0daddd8>"
      ]
     },
     "metadata": {},
     "output_type": "display_data"
    }
   ],
   "source": [
    "sns.countplot(x = 'urgent', data = connSample, palette=\"Paired\");"
   ]
  },
  {
   "cell_type": "markdown",
   "metadata": {},
   "source": [
    "#### Conclusions: Univariate Analysis"
   ]
  },
  {
   "cell_type": "markdown",
   "metadata": {},
   "source": [
    "The most relevant conclusions of univariante Analysis are:\n",
    "* **duration:** is highly right-skewed. In fact the 92% of the values are 0's. The log transformation without 0's seems to have a bimodal distribution\n",
    "* **connection_type:** has most of the instances with the values *tcp* (81%)\n",
    "* **service:** only two values (*http* and *private*) of 70 concentrate the 50% of the instances\n",
    "* **flag:** only three values (*SF*, *S0* and *REJ*) of 11 concentrate the 95% of the instances\n",
    "* **src_bytes:** is right-skewed. The log transformation seems to have a bimodal distribution\n",
    "* **dst_bytes:** is right-skewed. The log transformation seems to have a bimodal distribution\n",
    "* **land:** actually is a discrete feature with two values: 0 and 1. The 99,98% of the instances have the value 0\n",
    "* **wrong_fragment:** is a continuous variable with only three values: 0, 1 and 3. The 99.13% of the instances have the value 0\n",
    "* **urgent:** is a continuous variable with only four values: 0, 1, 2 and 3. The 99.99% of the instances have the value 0\n",
    "\n",
    "\n",
    "----------"
   ]
  },
  {
   "cell_type": "markdown",
   "metadata": {},
   "source": [
    "### Bivariate Analysis"
   ]
  },
  {
   "cell_type": "markdown",
   "metadata": {},
   "source": [
    "### duration vs protocol_type"
   ]
  },
  {
   "cell_type": "markdown",
   "metadata": {},
   "source": [
    "* **name:** duration\n",
    "* **description:** length (number of seconds) of the connection\n",
    "* **type:** continuous\n"
   ]
  },
  {
   "cell_type": "markdown",
   "metadata": {},
   "source": [
    "* **name:** protocol_type\n",
    "* **description:** type of the protocol, e.g. tcp, udp, etc.\n",
    "* **type:** discrete"
   ]
  },
  {
   "cell_type": "code",
   "execution_count": 139,
   "metadata": {},
   "outputs": [
    {
     "data": {
      "image/png": "[encoded data removed]",
      "text/plain": [
       "<matplotlib.figure.Figure at 0x7f93a15f5438>"
      ]
     },
     "metadata": {},
     "output_type": "display_data"
    }
   ],
   "source": [
    "sns.boxplot(x = 'protocol_type', y='duration', data = connSample, palette= 'Paired');"
   ]
  },
  {
   "cell_type": "code",
   "execution_count": 140,
   "metadata": {},
   "outputs": [],
   "source": [
    "connSample['duration_log'] = np.log(connSample.duration+1)"
   ]
  },
  {
   "cell_type": "code",
   "execution_count": 141,
   "metadata": {},
   "outputs": [
    {
     "data": {
      "image/png": "[encoded data removed]",
      "text/plain": [
       "<matplotlib.figure.Figure at 0x7f93a10b59e8>"
      ]
     },
     "metadata": {},
     "output_type": "display_data"
    }
   ],
   "source": [
    "sns.boxplot(x = 'protocol_type', y = 'duration_log', data = connSample, palette= 'Paired');"
   ]
  },
  {
   "cell_type": "markdown",
   "metadata": {},
   "source": [
    "##### Inspecting the distribution with duration_log more than 0"
   ]
  },
  {
   "cell_type": "code",
   "execution_count": 142,
   "metadata": {},
   "outputs": [
    {
     "data": {
      "image/png": "[encoded data removed]",
      "text/plain": [
       "<matplotlib.figure.Figure at 0x7f93a0e35ef0>"
      ]
     },
     "metadata": {},
     "output_type": "display_data"
    }
   ],
   "source": [
    "sns.boxplot(x= 'protocol_type', y= 'duration_log'\n",
    "            , data = connSample[connSample.duration_log > 0]\n",
    "            , palette = 'Paired');"
   ]
  },
  {
   "cell_type": "markdown",
   "metadata": {},
   "source": [
    "##### Inspecting the distribution with duration_log == 0"
   ]
  },
  {
   "cell_type": "code",
   "execution_count": 143,
   "metadata": {},
   "outputs": [
    {
     "data": {
      "image/png": "[encoded data removed]",
      "text/plain": [
       "<matplotlib.figure.Figure at 0x7f93a11ab0b8>"
      ]
     },
     "metadata": {},
     "output_type": "display_data"
    }
   ],
   "source": [
    "sns.countplot( x='protocol_type' \n",
    "              , data = connSample[connSample.duration_log == 0]\n",
    "              , palette = 'Paired');"
   ]
  },
  {
   "cell_type": "markdown",
   "metadata": {},
   "source": [
    "#### Conclusions duration vs protocol_type analysis\n",
    "* Regardless the *protocol_type* feature most of the values of *duration* features are 0's\n",
    "* When the value of *protocol_type* is *'icmp'* all the values of *duration* features is 0\n",
    "* After the log(x+1) transformation of *protocol_type* and removing the 0's values, the distributions of *duration* is very different between *'tcp'* and *'udp'* \n",
    "\n",
    "\n",
    "\n",
    "\n",
    "----------------------------------------------"
   ]
  },
  {
   "cell_type": "markdown",
   "metadata": {},
   "source": [
    "### Exercise 1\n",
    "Make the *duration* vs *service* analysis\n",
    "\n",
    "----------"
   ]
  },
  {
   "cell_type": "code",
   "execution_count": 144,
   "metadata": {},
   "outputs": [
    {
     "data": {
      "image/png": "[encoded data removed]",
      "text/plain": [
       "<matplotlib.figure.Figure at 0x7f93a0f47978>"
      ]
     },
     "metadata": {},
     "output_type": "display_data"
    }
   ],
   "source": [
    "connSample[connSample.duration_log>0].boxplot('duration_log', \n",
    "                                              by='service', \n",
    "                                              rot = 45, \n",
    "                                              figsize = (15, 7));"
   ]
  },
  {
   "cell_type": "code",
   "execution_count": 145,
   "metadata": {},
   "outputs": [
    {
     "data": {
      "image/png": "[encoded data removed]",
      "text/plain": [
       "<matplotlib.figure.Figure at 0x7f93a11e3630>"
      ]
     },
     "metadata": {},
     "output_type": "display_data"
    }
   ],
   "source": [
    "locs, labels = plt.xticks()\n",
    "plt.setp(labels, rotation=90)\n",
    "sns.countplot(y='service', data = connSample[connSample.duration_log == 0], palette= 'Paired');"
   ]
  },
  {
   "cell_type": "markdown",
   "metadata": {},
   "source": [
    "### duration vs flag"
   ]
  },
  {
   "cell_type": "markdown",
   "metadata": {},
   "source": [
    "* **name:** duration\n",
    "* **description:** length (number of seconds) of the connection\n",
    "* **type:** continuous\n"
   ]
  },
  {
   "cell_type": "markdown",
   "metadata": {},
   "source": [
    "* **name:** flag\n",
    "* **description:** normal or error status of the connection. The possible status are this: SF, S0, S1, S2, S3, OTH, REJ, RSTO, RSTOS0, SH, RSTRH, SHR\n",
    "* **type:** discrete"
   ]
  },
  {
   "cell_type": "code",
   "execution_count": 146,
   "metadata": {},
   "outputs": [
    {
     "data": {
      "image/png": "[encoded data removed]",
      "text/plain": [
       "<matplotlib.figure.Figure at 0x7f93a0d6a080>"
      ]
     },
     "metadata": {},
     "output_type": "display_data"
    }
   ],
   "source": [
    "connSample[connSample.duration > 0].boxplot('duration_log', by='flag');"
   ]
  },
  {
   "cell_type": "markdown",
   "metadata": {},
   "source": [
    "##### Inspecting the distribution with duration_log == 0"
   ]
  },
  {
   "cell_type": "code",
   "execution_count": 147,
   "metadata": {},
   "outputs": [
    {
     "data": {
      "image/png": "[encoded data removed]",
      "text/plain": [
       "<matplotlib.figure.Figure at 0x7f939ccae208>"
      ]
     },
     "metadata": {},
     "output_type": "display_data"
    }
   ],
   "source": [
    "sns.countplot(x = 'flag', data = connSample[connSample.duration_log == 0], palette= 'Paired');"
   ]
  },
  {
   "cell_type": "code",
   "execution_count": 148,
   "metadata": {},
   "outputs": [
    {
     "name": "stdout",
     "output_type": "stream",
     "text": [
      "Percentages of flag's value:\n",
      "SF      0.562694\n",
      "S0      0.305699\n",
      "REJ     0.104145\n",
      "RSTO    0.011054\n",
      "RSTR    0.008636\n",
      "S1      0.003282\n",
      "SH      0.002936\n",
      "S2      0.001209\n",
      "OTH     0.000173\n",
      "S3      0.000173\n",
      "Name: flag, dtype: float64\n"
     ]
    }
   ],
   "source": [
    "print(\"Percentages of flag's value:\")\n",
    "print(1.0*connSample[connSample.duration_log == 0].flag.value_counts()/len(connSample[connSample.duration_log == 0].flag))"
   ]
  },
  {
   "cell_type": "markdown",
   "metadata": {},
   "source": [
    "#### Conclusions duration vs flag analysis\n",
    "* Regardless the *flag* feature most of the values of *duration* features are 0's\n",
    "* After the log(x+1) transformation of *flag* and removing the 0's values, the distributions of *duration* is very different in *'RSTR'* and *'RSTOS0'* categories \n",
    "* If duration_log is 0, only three values (*SF*, *S0* and *REJ*) of 11 concentrate the 96% of the instances\n",
    "\n",
    "\n",
    "----------------------------------------------"
   ]
  },
  {
   "cell_type": "markdown",
   "metadata": {},
   "source": [
    "### duration vs src_bytes"
   ]
  },
  {
   "cell_type": "markdown",
   "metadata": {},
   "source": [
    "* **name:** duration\n",
    "* **description:** length (number of seconds) of the connection\n",
    "* **type:** continuous\n"
   ]
  },
  {
   "cell_type": "markdown",
   "metadata": {},
   "source": [
    "* **name:** src_bytes\n",
    "* **description:** number of data bytes from source to destination\n",
    "* **type:** continuous"
   ]
  },
  {
   "cell_type": "code",
   "execution_count": 149,
   "metadata": {},
   "outputs": [],
   "source": [
    "connSample['src_bytes_log'] = np.log(connSample.src_bytes+1)"
   ]
  },
  {
   "cell_type": "markdown",
   "metadata": {},
   "source": [
    "**Inspecting with duration > 0 **"
   ]
  },
  {
   "cell_type": "code",
   "execution_count": 150,
   "metadata": {},
   "outputs": [
    {
     "data": {
      "image/png": "[encoded data removed]",
      "text/plain": [
       "<matplotlib.figure.Figure at 0x7f93a0a1d9e8>"
      ]
     },
     "metadata": {},
     "output_type": "display_data"
    }
   ],
   "source": [
    "color = sns.color_palette()[2]\n",
    "sns.jointplot(\"duration_log\", \"src_bytes_log\", data=connSample[connSample.duration>0], \n",
    "              kind=\"reg\", color = color, size=7);"
   ]
  },
  {
   "cell_type": "code",
   "execution_count": 151,
   "metadata": {},
   "outputs": [
    {
     "data": {
      "image/png": "[encoded data removed]",
      "text/plain": [
       "<matplotlib.figure.Figure at 0x7f93a11ef550>"
      ]
     },
     "metadata": {},
     "output_type": "display_data"
    }
   ],
   "source": [
    "#with kde (Kernel density estimation)\n",
    "color = sns.color_palette()[3]\n",
    "sns.jointplot(\"duration_log\", \"src_bytes_log\", \n",
    "              data=connSample[connSample.duration>0], \n",
    "              kind=\"kde\", color = color, size=7);"
   ]
  },
  {
   "cell_type": "markdown",
   "metadata": {},
   "source": [
    "**Inspecting with duration == 0 **"
   ]
  },
  {
   "cell_type": "code",
   "execution_count": 152,
   "metadata": {},
   "outputs": [
    {
     "data": {
      "image/png": "[encoded data removed]",
      "text/plain": [
       "<matplotlib.figure.Figure at 0x7f93a0efc0f0>"
      ]
     },
     "metadata": {},
     "output_type": "display_data"
    }
   ],
   "source": [
    "sns.distplot(connSample[connSample.duration_log == 0].src_bytes_log, bins = 10);"
   ]
  },
  {
   "cell_type": "markdown",
   "metadata": {},
   "source": [
    "**Inspecting with src_bytes_log == 0 **"
   ]
  },
  {
   "cell_type": "code",
   "execution_count": 153,
   "metadata": {},
   "outputs": [
    {
     "data": {
      "image/png": "[encoded data removed]",
      "text/plain": [
       "<matplotlib.figure.Figure at 0x7f93a0d36080>"
      ]
     },
     "metadata": {},
     "output_type": "display_data"
    }
   ],
   "source": [
    "sns.distplot(connSample[connSample.src_bytes_log == 0].duration_log, bins = 10);"
   ]
  },
  {
   "cell_type": "markdown",
   "metadata": {},
   "source": [
    "#### Conclusions duration vs src_bytes analysis\n",
    "The analysis was splited in three cases:\n",
    "* Case 1: *duration_log* and *src_bytes_logs* are greater than 0:\n",
    "    - There are not strong correlation between *duration_log* and *src_bytes_log*\n",
    "    - On the other hand, it seems there are some clusters between both variables\n",
    "* Case 2: *duration_log* is equal to 0:\n",
    "    - It seems *src_bytes* has a multimodal distribution\n",
    "* Case 3: *src_bytes_log* is equal to 0:\n",
    "    - Most of the values of *duration_log* is equal to 0\n",
    "\n",
    "\n",
    "\n",
    "\n",
    "----------------------------------------------"
   ]
  },
  {
   "cell_type": "markdown",
   "metadata": {},
   "source": [
    "### duration vs dst_bytes"
   ]
  },
  {
   "cell_type": "markdown",
   "metadata": {},
   "source": [
    "* **name:** duration\n",
    "* **description:** length (number of seconds) of the connection\n",
    "* **type:** continuous\n"
   ]
  },
  {
   "cell_type": "markdown",
   "metadata": {},
   "source": [
    "* **name:** dst_bytes\n",
    "* **description:** number of data bytes from destination to source\n",
    "* **type:** continuous"
   ]
  },
  {
   "cell_type": "code",
   "execution_count": 154,
   "metadata": {},
   "outputs": [],
   "source": [
    "connSample['dst_bytes_log'] = np.log(connSample.dst_bytes+1)"
   ]
  },
  {
   "cell_type": "code",
   "execution_count": 155,
   "metadata": {},
   "outputs": [
    {
     "data": {
      "image/png": "[encoded data removed]",
      "text/plain": [
       "<matplotlib.figure.Figure at 0x7f93a1063898>"
      ]
     },
     "metadata": {},
     "output_type": "display_data"
    }
   ],
   "source": [
    "sns.jointplot(\"duration_log\", \"dst_bytes_log\", \n",
    "              data= connSample[connSample.duration>0], \n",
    "              kind=\"reg\", size=7);"
   ]
  },
  {
   "cell_type": "code",
   "execution_count": 156,
   "metadata": {},
   "outputs": [
    {
     "data": {
      "image/png": "[encoded data removed]",
      "text/plain": [
       "<matplotlib.figure.Figure at 0x7f939d023080>"
      ]
     },
     "metadata": {},
     "output_type": "display_data"
    }
   ],
   "source": [
    "#with kde (Kernel density estimation)\n",
    "color = sns.color_palette()[2]\n",
    "sns.jointplot(\"duration_log\", \"dst_bytes_log\", \n",
    "              data= connSample[connSample.duration>0], \n",
    "              color = color, kind=\"kde\", size=7);"
   ]
  },
  {
   "cell_type": "markdown",
   "metadata": {},
   "source": [
    "**Inspecting with duration == 0 **"
   ]
  },
  {
   "cell_type": "code",
   "execution_count": 157,
   "metadata": {},
   "outputs": [
    {
     "data": {
      "image/png": "[encoded data removed]",
      "text/plain": [
       "<matplotlib.figure.Figure at 0x7f93a142cb38>"
      ]
     },
     "metadata": {},
     "output_type": "display_data"
    }
   ],
   "source": [
    "sns.distplot(connSample[connSample.duration_log == 0].dst_bytes_log, bins = 10);"
   ]
  },
  {
   "cell_type": "markdown",
   "metadata": {},
   "source": [
    "**Inspecting with dst_bytes_log == 0 **"
   ]
  },
  {
   "cell_type": "code",
   "execution_count": 158,
   "metadata": {},
   "outputs": [
    {
     "data": {
      "image/png": "[encoded data removed]",
      "text/plain": [
       "<matplotlib.figure.Figure at 0x7f93a0cd4320>"
      ]
     },
     "metadata": {},
     "output_type": "display_data"
    }
   ],
   "source": [
    "sns.distplot(connSample[connSample.dst_bytes_log == 0].duration_log, bins = 10);"
   ]
  },
  {
   "cell_type": "markdown",
   "metadata": {},
   "source": [
    "#### Conclusions duration vs dst_bytes analysis\n",
    "The analysis was splited in three cases:\n",
    "* Case 1: *duration_log* and *dst_bytes_logs* are greater than 0:\n",
    "    - There are not strong correlation between *duration_log* and *dst_bytes_log*\n",
    "    - On the other hand, it seems there are some clusters between both variables\n",
    "* Case 2: *duration_log* is equal to 0:\n",
    "    - It seems *dst_bytes* has a bimodal distribution\n",
    "* Case 3: *dst_bytes_log* is equal to 0:\n",
    "    - Most of the values of *duration_log* is equal to 0\n",
    "\n",
    "\n",
    "\n",
    "\n",
    "----------------------------------------------"
   ]
  },
  {
   "cell_type": "markdown",
   "metadata": {},
   "source": [
    "### duration vs land"
   ]
  },
  {
   "cell_type": "markdown",
   "metadata": {},
   "source": [
    "* **name:** duration\n",
    "* **description:** length (number of seconds) of the connection\n",
    "* **type:** continuous\n"
   ]
  },
  {
   "cell_type": "markdown",
   "metadata": {},
   "source": [
    "* **name:** land\n",
    "* **description:** 1 if connection is from/to the same host/port; 0 otherwise\n",
    "* **type:** discrete"
   ]
  },
  {
   "cell_type": "code",
   "execution_count": 159,
   "metadata": {},
   "outputs": [
    {
     "data": {
      "image/png": "[encoded data removed]",
      "text/plain": [
       "<matplotlib.figure.Figure at 0x7f93a0b47898>"
      ]
     },
     "metadata": {},
     "output_type": "display_data"
    }
   ],
   "source": [
    "sns.boxplot(x = \"land\", y = \"duration_log\", data= connSample, palette= 'Paired');"
   ]
  },
  {
   "cell_type": "code",
   "execution_count": 160,
   "metadata": {},
   "outputs": [
    {
     "data": {
      "text/plain": [
       "land\n",
       "0    0.342973\n",
       "1    0.000000\n",
       "Name: duration_log, dtype: float64"
      ]
     },
     "execution_count": 160,
     "metadata": {},
     "output_type": "execute_result"
    }
   ],
   "source": [
    "connSample.pivot_table(\"duration_log\",\"land\", aggfunc=np.average)"
   ]
  },
  {
   "cell_type": "markdown",
   "metadata": {},
   "source": [
    "**Inspecting with duration > 0 **"
   ]
  },
  {
   "cell_type": "code",
   "execution_count": 161,
   "metadata": {},
   "outputs": [
    {
     "data": {
      "image/png": "[encoded data removed]",
      "text/plain": [
       "<matplotlib.figure.Figure at 0x7f939ce63860>"
      ]
     },
     "metadata": {},
     "output_type": "display_data"
    }
   ],
   "source": [
    "sns.boxplot(x = \"land\", y = \"duration_log\", \n",
    "            data= connSample[connSample.duration > 0], \n",
    "            palette= 'Paired');"
   ]
  },
  {
   "cell_type": "markdown",
   "metadata": {},
   "source": [
    "####Conclusions duration vs land analysis\n",
    "* If *duration_log* is greater than 0 then we have only values with *land* == 0 and its distribution is right-skewed\n",
    "\n",
    "\n",
    "\n",
    "\n",
    "----------------------------------------------"
   ]
  },
  {
   "cell_type": "markdown",
   "metadata": {},
   "source": [
    "### duration vs wrong_fragment"
   ]
  },
  {
   "cell_type": "markdown",
   "metadata": {},
   "source": [
    "* **name:** duration\n",
    "* **description:** length (number of seconds) of the connection\n",
    "* **type:** continuous\n"
   ]
  },
  {
   "cell_type": "markdown",
   "metadata": {},
   "source": [
    "* **name:** wrong_fragment\t\n",
    "* **description:** sum of bad checksum packets in a connection\n",
    "* **type:** continuous"
   ]
  },
  {
   "cell_type": "code",
   "execution_count": 162,
   "metadata": {},
   "outputs": [
    {
     "data": {
      "image/png": "[encoded data removed]",
      "text/plain": [
       "<matplotlib.figure.Figure at 0x7f93a0ad65f8>"
      ]
     },
     "metadata": {},
     "output_type": "display_data"
    }
   ],
   "source": [
    "sns.boxplot(x= 'wrong_fragment', y= 'duration_log', \n",
    "           data = connSample, \n",
    "           palette = 'Paired');"
   ]
  },
  {
   "cell_type": "code",
   "execution_count": 163,
   "metadata": {},
   "outputs": [
    {
     "data": {
      "text/plain": [
       "wrong_fragment\n",
       "0.0    0.34576\n",
       "1.0    0.00000\n",
       "3.0    0.00000\n",
       "Name: duration_log, dtype: float64"
      ]
     },
     "execution_count": 163,
     "metadata": {},
     "output_type": "execute_result"
    }
   ],
   "source": [
    "connSample.pivot_table(\"duration_log\",\"wrong_fragment\", aggfunc=np.average)"
   ]
  },
  {
   "cell_type": "markdown",
   "metadata": {},
   "source": [
    "**Inspecting with duration > 0 **"
   ]
  },
  {
   "cell_type": "code",
   "execution_count": 164,
   "metadata": {},
   "outputs": [
    {
     "data": {
      "image/png": "[encoded data removed]",
      "text/plain": [
       "<matplotlib.figure.Figure at 0x7f939cd4d3c8>"
      ]
     },
     "metadata": {},
     "output_type": "display_data"
    }
   ],
   "source": [
    "sns.boxplot(x= 'wrong_fragment', y= 'duration_log', \n",
    "           data = connSample[connSample.duration_log > 0], \n",
    "           palette = 'Paired');"
   ]
  },
  {
   "cell_type": "markdown",
   "metadata": {},
   "source": [
    "#### Conclusions duration vs wrong_fragment\n",
    "\n",
    "* If *duration_log* is greater than 0 then we have only values with *wrong_fragment* == 0 and its distribution is right-skewed\n",
    "\n",
    "\n",
    "\n",
    "\n",
    "----------------------------------------------"
   ]
  },
  {
   "cell_type": "markdown",
   "metadata": {},
   "source": [
    "### Exercicie 2: duration vs urgent"
   ]
  },
  {
   "cell_type": "markdown",
   "metadata": {},
   "source": [
    "* **name:** duration\n",
    "* **description:** length (number of seconds) of the connection\n",
    "* **type:** continuous\n"
   ]
  },
  {
   "cell_type": "markdown",
   "metadata": {},
   "source": [
    "* **name:** urgent\t\n",
    "* **description:** number of urgent packets. Urgent packets are packets with the urgent bit activated\n",
    "* **type:** continuous"
   ]
  },
  {
   "cell_type": "markdown",
   "metadata": {},
   "source": [
    "#### Conclusions duration vs urgent\n",
    "\n",
    "\n",
    "\n",
    "\n",
    "----------------------------------------------"
   ]
  },
  {
   "cell_type": "markdown",
   "metadata": {},
   "source": [
    "### protocol_type vs service"
   ]
  },
  {
   "cell_type": "markdown",
   "metadata": {},
   "source": [
    "* **name:** protocol_type\n",
    "* **description:** type of the protocol, e.g. tcp, udp, etc.\n",
    "* **type:** discrete"
   ]
  },
  {
   "cell_type": "markdown",
   "metadata": {},
   "source": [
    "* **name:** service\n",
    "* **description:** network service on the destination, e.g., http, telnet, etc.\n",
    "* **type:** discrete"
   ]
  },
  {
   "cell_type": "code",
   "execution_count": 165,
   "metadata": {},
   "outputs": [
    {
     "data": {
      "text/html": [
       "<div>\n",
       "<table border=\"1\" class=\"dataframe\">\n",
       "  <thead>\n",
       "    <tr style=\"text-align: right;\">\n",
       "      <th>protocol_type</th>\n",
       "      <th>icmp</th>\n",
       "      <th>tcp</th>\n",
       "      <th>udp</th>\n",
       "    </tr>\n",
       "    <tr>\n",
       "      <th>service</th>\n",
       "      <th></th>\n",
       "      <th></th>\n",
       "      <th></th>\n",
       "    </tr>\n",
       "  </thead>\n",
       "  <tbody>\n",
       "    <tr>\n",
       "      <th>IRC</th>\n",
       "      <td>NaN</td>\n",
       "      <td>9.0</td>\n",
       "      <td>NaN</td>\n",
       "    </tr>\n",
       "    <tr>\n",
       "      <th>X11</th>\n",
       "      <td>NaN</td>\n",
       "      <td>6.0</td>\n",
       "      <td>NaN</td>\n",
       "    </tr>\n",
       "    <tr>\n",
       "      <th>Z39_50</th>\n",
       "      <td>NaN</td>\n",
       "      <td>52.0</td>\n",
       "      <td>NaN</td>\n",
       "    </tr>\n",
       "    <tr>\n",
       "      <th>auth</th>\n",
       "      <td>NaN</td>\n",
       "      <td>48.0</td>\n",
       "      <td>NaN</td>\n",
       "    </tr>\n",
       "    <tr>\n",
       "      <th>bgp</th>\n",
       "      <td>NaN</td>\n",
       "      <td>45.0</td>\n",
       "      <td>NaN</td>\n",
       "    </tr>\n",
       "    <tr>\n",
       "      <th>courier</th>\n",
       "      <td>NaN</td>\n",
       "      <td>42.0</td>\n",
       "      <td>NaN</td>\n",
       "    </tr>\n",
       "    <tr>\n",
       "      <th>csnet_ns</th>\n",
       "      <td>NaN</td>\n",
       "      <td>37.0</td>\n",
       "      <td>NaN</td>\n",
       "    </tr>\n",
       "    <tr>\n",
       "      <th>ctf</th>\n",
       "      <td>NaN</td>\n",
       "      <td>22.0</td>\n",
       "      <td>NaN</td>\n",
       "    </tr>\n",
       "    <tr>\n",
       "      <th>daytime</th>\n",
       "      <td>NaN</td>\n",
       "      <td>30.0</td>\n",
       "      <td>NaN</td>\n",
       "    </tr>\n",
       "    <tr>\n",
       "      <th>discard</th>\n",
       "      <td>NaN</td>\n",
       "      <td>33.0</td>\n",
       "      <td>NaN</td>\n",
       "    </tr>\n",
       "    <tr>\n",
       "      <th>domain</th>\n",
       "      <td>NaN</td>\n",
       "      <td>21.0</td>\n",
       "      <td>NaN</td>\n",
       "    </tr>\n",
       "    <tr>\n",
       "      <th>domain_u</th>\n",
       "      <td>NaN</td>\n",
       "      <td>NaN</td>\n",
       "      <td>442.0</td>\n",
       "    </tr>\n",
       "    <tr>\n",
       "      <th>echo</th>\n",
       "      <td>NaN</td>\n",
       "      <td>26.0</td>\n",
       "      <td>NaN</td>\n",
       "    </tr>\n",
       "    <tr>\n",
       "      <th>eco_i</th>\n",
       "      <td>239.0</td>\n",
       "      <td>NaN</td>\n",
       "      <td>NaN</td>\n",
       "    </tr>\n",
       "    <tr>\n",
       "      <th>ecr_i</th>\n",
       "      <td>144.0</td>\n",
       "      <td>NaN</td>\n",
       "      <td>NaN</td>\n",
       "    </tr>\n",
       "    <tr>\n",
       "      <th>efs</th>\n",
       "      <td>NaN</td>\n",
       "      <td>33.0</td>\n",
       "      <td>NaN</td>\n",
       "    </tr>\n",
       "    <tr>\n",
       "      <th>exec</th>\n",
       "      <td>NaN</td>\n",
       "      <td>27.0</td>\n",
       "      <td>NaN</td>\n",
       "    </tr>\n",
       "    <tr>\n",
       "      <th>finger</th>\n",
       "      <td>NaN</td>\n",
       "      <td>94.0</td>\n",
       "      <td>NaN</td>\n",
       "    </tr>\n",
       "    <tr>\n",
       "      <th>ftp</th>\n",
       "      <td>NaN</td>\n",
       "      <td>80.0</td>\n",
       "      <td>NaN</td>\n",
       "    </tr>\n",
       "    <tr>\n",
       "      <th>ftp_data</th>\n",
       "      <td>NaN</td>\n",
       "      <td>396.0</td>\n",
       "      <td>NaN</td>\n",
       "    </tr>\n",
       "    <tr>\n",
       "      <th>gopher</th>\n",
       "      <td>NaN</td>\n",
       "      <td>25.0</td>\n",
       "      <td>NaN</td>\n",
       "    </tr>\n",
       "    <tr>\n",
       "      <th>hostnames</th>\n",
       "      <td>NaN</td>\n",
       "      <td>21.0</td>\n",
       "      <td>NaN</td>\n",
       "    </tr>\n",
       "    <tr>\n",
       "      <th>http</th>\n",
       "      <td>NaN</td>\n",
       "      <td>1942.0</td>\n",
       "      <td>NaN</td>\n",
       "    </tr>\n",
       "    <tr>\n",
       "      <th>http_443</th>\n",
       "      <td>NaN</td>\n",
       "      <td>31.0</td>\n",
       "      <td>NaN</td>\n",
       "    </tr>\n",
       "    <tr>\n",
       "      <th>imap4</th>\n",
       "      <td>NaN</td>\n",
       "      <td>38.0</td>\n",
       "      <td>NaN</td>\n",
       "    </tr>\n",
       "    <tr>\n",
       "      <th>iso_tsap</th>\n",
       "      <td>NaN</td>\n",
       "      <td>33.0</td>\n",
       "      <td>NaN</td>\n",
       "    </tr>\n",
       "    <tr>\n",
       "      <th>klogin</th>\n",
       "      <td>NaN</td>\n",
       "      <td>28.0</td>\n",
       "      <td>NaN</td>\n",
       "    </tr>\n",
       "    <tr>\n",
       "      <th>kshell</th>\n",
       "      <td>NaN</td>\n",
       "      <td>11.0</td>\n",
       "      <td>NaN</td>\n",
       "    </tr>\n",
       "    <tr>\n",
       "      <th>ldap</th>\n",
       "      <td>NaN</td>\n",
       "      <td>22.0</td>\n",
       "      <td>NaN</td>\n",
       "    </tr>\n",
       "    <tr>\n",
       "      <th>link</th>\n",
       "      <td>NaN</td>\n",
       "      <td>28.0</td>\n",
       "      <td>NaN</td>\n",
       "    </tr>\n",
       "    <tr>\n",
       "      <th>...</th>\n",
       "      <td>...</td>\n",
       "      <td>...</td>\n",
       "      <td>...</td>\n",
       "    </tr>\n",
       "    <tr>\n",
       "      <th>netbios_dgm</th>\n",
       "      <td>NaN</td>\n",
       "      <td>22.0</td>\n",
       "      <td>NaN</td>\n",
       "    </tr>\n",
       "    <tr>\n",
       "      <th>netbios_ns</th>\n",
       "      <td>NaN</td>\n",
       "      <td>17.0</td>\n",
       "      <td>NaN</td>\n",
       "    </tr>\n",
       "    <tr>\n",
       "      <th>netbios_ssn</th>\n",
       "      <td>NaN</td>\n",
       "      <td>20.0</td>\n",
       "      <td>NaN</td>\n",
       "    </tr>\n",
       "    <tr>\n",
       "      <th>netstat</th>\n",
       "      <td>NaN</td>\n",
       "      <td>22.0</td>\n",
       "      <td>NaN</td>\n",
       "    </tr>\n",
       "    <tr>\n",
       "      <th>nnsp</th>\n",
       "      <td>NaN</td>\n",
       "      <td>33.0</td>\n",
       "      <td>NaN</td>\n",
       "    </tr>\n",
       "    <tr>\n",
       "      <th>nntp</th>\n",
       "      <td>NaN</td>\n",
       "      <td>11.0</td>\n",
       "      <td>NaN</td>\n",
       "    </tr>\n",
       "    <tr>\n",
       "      <th>ntp_u</th>\n",
       "      <td>NaN</td>\n",
       "      <td>NaN</td>\n",
       "      <td>5.0</td>\n",
       "    </tr>\n",
       "    <tr>\n",
       "      <th>other</th>\n",
       "      <td>NaN</td>\n",
       "      <td>106.0</td>\n",
       "      <td>127.0</td>\n",
       "    </tr>\n",
       "    <tr>\n",
       "      <th>pop_2</th>\n",
       "      <td>NaN</td>\n",
       "      <td>7.0</td>\n",
       "      <td>NaN</td>\n",
       "    </tr>\n",
       "    <tr>\n",
       "      <th>pop_3</th>\n",
       "      <td>NaN</td>\n",
       "      <td>17.0</td>\n",
       "      <td>NaN</td>\n",
       "    </tr>\n",
       "    <tr>\n",
       "      <th>printer</th>\n",
       "      <td>NaN</td>\n",
       "      <td>3.0</td>\n",
       "      <td>NaN</td>\n",
       "    </tr>\n",
       "    <tr>\n",
       "      <th>private</th>\n",
       "      <td>NaN</td>\n",
       "      <td>889.0</td>\n",
       "      <td>164.0</td>\n",
       "    </tr>\n",
       "    <tr>\n",
       "      <th>remote_job</th>\n",
       "      <td>NaN</td>\n",
       "      <td>8.0</td>\n",
       "      <td>NaN</td>\n",
       "    </tr>\n",
       "    <tr>\n",
       "      <th>rje</th>\n",
       "      <td>NaN</td>\n",
       "      <td>4.0</td>\n",
       "      <td>NaN</td>\n",
       "    </tr>\n",
       "    <tr>\n",
       "      <th>shell</th>\n",
       "      <td>NaN</td>\n",
       "      <td>8.0</td>\n",
       "      <td>NaN</td>\n",
       "    </tr>\n",
       "    <tr>\n",
       "      <th>smtp</th>\n",
       "      <td>NaN</td>\n",
       "      <td>364.0</td>\n",
       "      <td>NaN</td>\n",
       "    </tr>\n",
       "    <tr>\n",
       "      <th>sql_net</th>\n",
       "      <td>NaN</td>\n",
       "      <td>13.0</td>\n",
       "      <td>NaN</td>\n",
       "    </tr>\n",
       "    <tr>\n",
       "      <th>ssh</th>\n",
       "      <td>NaN</td>\n",
       "      <td>20.0</td>\n",
       "      <td>NaN</td>\n",
       "    </tr>\n",
       "    <tr>\n",
       "      <th>sunrpc</th>\n",
       "      <td>NaN</td>\n",
       "      <td>18.0</td>\n",
       "      <td>NaN</td>\n",
       "    </tr>\n",
       "    <tr>\n",
       "      <th>supdup</th>\n",
       "      <td>NaN</td>\n",
       "      <td>24.0</td>\n",
       "      <td>NaN</td>\n",
       "    </tr>\n",
       "    <tr>\n",
       "      <th>systat</th>\n",
       "      <td>NaN</td>\n",
       "      <td>22.0</td>\n",
       "      <td>NaN</td>\n",
       "    </tr>\n",
       "    <tr>\n",
       "      <th>telnet</th>\n",
       "      <td>NaN</td>\n",
       "      <td>138.0</td>\n",
       "      <td>NaN</td>\n",
       "    </tr>\n",
       "    <tr>\n",
       "      <th>tim_i</th>\n",
       "      <td>1.0</td>\n",
       "      <td>NaN</td>\n",
       "      <td>NaN</td>\n",
       "    </tr>\n",
       "    <tr>\n",
       "      <th>time</th>\n",
       "      <td>NaN</td>\n",
       "      <td>42.0</td>\n",
       "      <td>NaN</td>\n",
       "    </tr>\n",
       "    <tr>\n",
       "      <th>urh_i</th>\n",
       "      <td>1.0</td>\n",
       "      <td>NaN</td>\n",
       "      <td>NaN</td>\n",
       "    </tr>\n",
       "    <tr>\n",
       "      <th>urp_i</th>\n",
       "      <td>24.0</td>\n",
       "      <td>NaN</td>\n",
       "      <td>NaN</td>\n",
       "    </tr>\n",
       "    <tr>\n",
       "      <th>uucp</th>\n",
       "      <td>NaN</td>\n",
       "      <td>39.0</td>\n",
       "      <td>NaN</td>\n",
       "    </tr>\n",
       "    <tr>\n",
       "      <th>uucp_path</th>\n",
       "      <td>NaN</td>\n",
       "      <td>43.0</td>\n",
       "      <td>NaN</td>\n",
       "    </tr>\n",
       "    <tr>\n",
       "      <th>vmnet</th>\n",
       "      <td>NaN</td>\n",
       "      <td>30.0</td>\n",
       "      <td>NaN</td>\n",
       "    </tr>\n",
       "    <tr>\n",
       "      <th>whois</th>\n",
       "      <td>NaN</td>\n",
       "      <td>24.0</td>\n",
       "      <td>NaN</td>\n",
       "    </tr>\n",
       "  </tbody>\n",
       "</table>\n",
       "<p>63 rows × 3 columns</p>\n",
       "</div>"
      ],
      "text/plain": [
       "protocol_type   icmp     tcp    udp\n",
       "service                            \n",
       "IRC              NaN     9.0    NaN\n",
       "X11              NaN     6.0    NaN\n",
       "Z39_50           NaN    52.0    NaN\n",
       "auth             NaN    48.0    NaN\n",
       "bgp              NaN    45.0    NaN\n",
       "courier          NaN    42.0    NaN\n",
       "csnet_ns         NaN    37.0    NaN\n",
       "ctf              NaN    22.0    NaN\n",
       "daytime          NaN    30.0    NaN\n",
       "discard          NaN    33.0    NaN\n",
       "domain           NaN    21.0    NaN\n",
       "domain_u         NaN     NaN  442.0\n",
       "echo             NaN    26.0    NaN\n",
       "eco_i          239.0     NaN    NaN\n",
       "ecr_i          144.0     NaN    NaN\n",
       "efs              NaN    33.0    NaN\n",
       "exec             NaN    27.0    NaN\n",
       "finger           NaN    94.0    NaN\n",
       "ftp              NaN    80.0    NaN\n",
       "ftp_data         NaN   396.0    NaN\n",
       "gopher           NaN    25.0    NaN\n",
       "hostnames        NaN    21.0    NaN\n",
       "http             NaN  1942.0    NaN\n",
       "http_443         NaN    31.0    NaN\n",
       "imap4            NaN    38.0    NaN\n",
       "iso_tsap         NaN    33.0    NaN\n",
       "klogin           NaN    28.0    NaN\n",
       "kshell           NaN    11.0    NaN\n",
       "ldap             NaN    22.0    NaN\n",
       "link             NaN    28.0    NaN\n",
       "...              ...     ...    ...\n",
       "netbios_dgm      NaN    22.0    NaN\n",
       "netbios_ns       NaN    17.0    NaN\n",
       "netbios_ssn      NaN    20.0    NaN\n",
       "netstat          NaN    22.0    NaN\n",
       "nnsp             NaN    33.0    NaN\n",
       "nntp             NaN    11.0    NaN\n",
       "ntp_u            NaN     NaN    5.0\n",
       "other            NaN   106.0  127.0\n",
       "pop_2            NaN     7.0    NaN\n",
       "pop_3            NaN    17.0    NaN\n",
       "printer          NaN     3.0    NaN\n",
       "private          NaN   889.0  164.0\n",
       "remote_job       NaN     8.0    NaN\n",
       "rje              NaN     4.0    NaN\n",
       "shell            NaN     8.0    NaN\n",
       "smtp             NaN   364.0    NaN\n",
       "sql_net          NaN    13.0    NaN\n",
       "ssh              NaN    20.0    NaN\n",
       "sunrpc           NaN    18.0    NaN\n",
       "supdup           NaN    24.0    NaN\n",
       "systat           NaN    22.0    NaN\n",
       "telnet           NaN   138.0    NaN\n",
       "tim_i            1.0     NaN    NaN\n",
       "time             NaN    42.0    NaN\n",
       "urh_i            1.0     NaN    NaN\n",
       "urp_i           24.0     NaN    NaN\n",
       "uucp             NaN    39.0    NaN\n",
       "uucp_path        NaN    43.0    NaN\n",
       "vmnet            NaN    30.0    NaN\n",
       "whois            NaN    24.0    NaN\n",
       "\n",
       "[63 rows x 3 columns]"
      ]
     },
     "execution_count": 165,
     "metadata": {},
     "output_type": "execute_result"
    }
   ],
   "source": [
    "connSample.pivot_table(\"attack\", \"service\",\"protocol_type\", aggfunc=len)"
   ]
  },
  {
   "cell_type": "code",
   "execution_count": 166,
   "metadata": {},
   "outputs": [
    {
     "data": {
      "image/png": "[encoded data removed]",
      "text/plain": [
       "<matplotlib.figure.Figure at 0x7f93a09d5898>"
      ]
     },
     "metadata": {},
     "output_type": "display_data"
    }
   ],
   "source": [
    "sns.set(font= 'serif', font_scale=0.65, rc={\"figure.figsize\": (3, 10)})\n",
    "sns.heatmap(connSample.pivot_table(\"attack\", \"service\",\"protocol_type\", aggfunc=len), \n",
    "            square= False,\n",
    "            annot=True, annot_kws={\"size\": 7}, fmt=\".0f\", linewidths= .5);"
   ]
  },
  {
   "cell_type": "markdown",
   "metadata": {},
   "source": [
    "#### Conclusions protocol_type vs service analysis\n",
    "* Except two general services (*'other'* and *'private'*) all the *services* categories belong to a *protocol_type* category\n",
    "\n",
    "\n",
    "\n",
    "\n",
    "----------------------------------------------"
   ]
  },
  {
   "cell_type": "markdown",
   "metadata": {},
   "source": [
    "### protocol_type vs flag"
   ]
  },
  {
   "cell_type": "markdown",
   "metadata": {},
   "source": [
    "* **name:** protocol_type\n",
    "* **description:** type of the protocol, e.g. tcp, udp, etc.\n",
    "* **type:** discrete"
   ]
  },
  {
   "cell_type": "markdown",
   "metadata": {},
   "source": [
    "* **name:** flag\n",
    "* **description:** normal or error status of the connection. The possible status are this: SF, S0, S1, S2, S3, OTH, REJ, RSTO, RSTOS0, SH, RSTRH, SHR\n",
    "* **type:** discrete"
   ]
  },
  {
   "cell_type": "code",
   "execution_count": 167,
   "metadata": {},
   "outputs": [
    {
     "data": {
      "image/png": "[encoded data removed]",
      "text/plain": [
       "<matplotlib.figure.Figure at 0x7f93a11e3dd8>"
      ]
     },
     "metadata": {},
     "output_type": "display_data"
    }
   ],
   "source": [
    "sns.set(font= 'serif', font_scale=0.65, rc={\"figure.figsize\": (3, 6)})\n",
    "sns.heatmap(connSample.pivot_table(\"attack\", \"flag\",\"protocol_type\", aggfunc=len), \n",
    "            annot=True, fmt=\".0f\");"
   ]
  },
  {
   "cell_type": "markdown",
   "metadata": {},
   "source": [
    "#### Conclusions protocol_type vs flag analysis\n",
    "* All *flag* categories beleng only to *'tcp'* *protocol_type* except *'SF'* flag that belongs to the three *protocol_type*s\n",
    "\n",
    "\n",
    "\n",
    "----------------------------------------------"
   ]
  },
  {
   "cell_type": "markdown",
   "metadata": {},
   "source": [
    "### Exercise 3: protocol_type vs src_bytes\n",
    "Make the *protocol_type* vs *src_bytes* analysis\n",
    "\n",
    "----------"
   ]
  },
  {
   "cell_type": "markdown",
   "metadata": {},
   "source": [
    "### Exercise 4: protocol_type vs dst_bytes\n",
    "Make the *protocol_type* vs *dst_bytes* analysis\n",
    "\n",
    "----------"
   ]
  },
  {
   "cell_type": "markdown",
   "metadata": {},
   "source": [
    "### Multivariate Analysis"
   ]
  },
  {
   "cell_type": "markdown",
   "metadata": {},
   "source": [
    "### src_bytes & dst_bytes & wrong_fragmnet & urgent vs class"
   ]
  },
  {
   "cell_type": "markdown",
   "metadata": {},
   "source": [
    "* **name:** urgent\t\n",
    "* **description:** number of urgent packets. Urgent packets are packets with the urgent bit activated\n",
    "* **type:** continuous"
   ]
  },
  {
   "cell_type": "markdown",
   "metadata": {},
   "source": [
    "* **name:** src_bytes\n",
    "* **description:** number of data bytes from source to destination\n",
    "* **type:** continuous"
   ]
  },
  {
   "cell_type": "markdown",
   "metadata": {},
   "source": [
    "* **name:** dst_bytes\n",
    "* **description:** number of data bytes from destination to source\n",
    "* **type:** continuous"
   ]
  },
  {
   "cell_type": "markdown",
   "metadata": {},
   "source": [
    "* **name:** wrong_fragment\t\n",
    "* **description:** sum of bad checksum packets in a connection\n",
    "* **type:** continuous"
   ]
  },
  {
   "cell_type": "markdown",
   "metadata": {},
   "source": [
    "* **name:** attack\t\n",
    "* **description:** is the label attribute and indicates which type of connections is each instance: normal or which attack. The values it can take are the following: *anomaly, dict, dict_simple, eject, eject-fail, ffb, ffb_clear, format, format_clear, format-fail, ftp-write, guest, imap, land, load_clear, loadmodule, multihop, perl_clear, perlmagic, phf, rootkit, spy, syslog, teardrop, warez, warezclient, warezmaster, pod, back, ip- sweep, neptune, nmap, portsweep, satan, smurf and normal*\n",
    "* **type:** discrete"
   ]
  },
  {
   "cell_type": "code",
   "execution_count": 168,
   "metadata": {},
   "outputs": [],
   "source": [
    "#creation of \"is_attack\" attribute to differentiate the normal connections vs attack connections\n",
    "connSample[\"is_attack\"] = connSample[\"attack\"].map(lambda x: int(x != \"normal\"))"
   ]
  },
  {
   "cell_type": "code",
   "execution_count": 169,
   "metadata": {},
   "outputs": [
    {
     "data": {
      "image/png": "[encoded data removed]",
      "text/plain": [
       "<matplotlib.figure.Figure at 0x7f93a0fde048>"
      ]
     },
     "metadata": {},
     "output_type": "display_data"
    }
   ],
   "source": [
    "sns.pairplot(connSample, \n",
    "             vars=['src_bytes_log','dst_bytes_log','wrong_fragment','urgent'], \n",
    "             hue='is_attack');"
   ]
  },
  {
   "cell_type": "code",
   "execution_count": null,
   "metadata": {},
   "outputs": [],
   "source": []
  }
 ],
 "metadata": {
  "kernelspec": {
   "display_name": "Python 3",
   "language": "python",
   "name": "python3"
  },
  "language_info": {
   "codemirror_mode": {
    "name": "ipython",
    "version": 3
   },
   "file_extension": ".py",
   "mimetype": "text/x-python",
   "name": "python",
   "nbconvert_exporter": "python",
   "pygments_lexer": "ipython3",
   "version": "3.6.2"
  }
 },
 "nbformat": 4,
 "nbformat_minor": 1
}
